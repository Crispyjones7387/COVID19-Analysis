{
  "nbformat": 4,
  "nbformat_minor": 0,
  "metadata": {
    "colab": {
      "name": "COVID19-XRay.ipynb",
      "provenance": [],
      "authorship_tag": "ABX9TyPBojvtwq9RbLGjB9R686aB",
      "include_colab_link": true
    },
    "kernelspec": {
      "name": "python3",
      "display_name": "Python 3"
    },
    "accelerator": "GPU"
  },
  "cells": [
    {
      "cell_type": "markdown",
      "metadata": {
        "id": "view-in-github",
        "colab_type": "text"
      },
      "source": [
        "<a href=\"https://colab.research.google.com/github/Crispyjones7387/COVID19-Analysis/blob/master/XRAY%20Analysis%20using%20VGG19/COVID19_XRay.ipynb\" target=\"_parent\"><img src=\"https://colab.research.google.com/assets/colab-badge.svg\" alt=\"Open In Colab\"/></a>"
      ]
    },
    {
      "cell_type": "code",
      "metadata": {
        "id": "NyYDttD_aO81",
        "colab_type": "code",
        "colab": {
          "base_uri": "https://localhost:8080/",
          "height": 302
        },
        "outputId": "9f2b06e3-c878-4bb0-d16b-9106e21a2f5a"
      },
      "source": [
        "!nvidia-smi"
      ],
      "execution_count": 1,
      "outputs": [
        {
          "output_type": "stream",
          "text": [
            "Wed Apr  1 11:05:36 2020       \n",
            "+-----------------------------------------------------------------------------+\n",
            "| NVIDIA-SMI 440.64.00    Driver Version: 418.67       CUDA Version: 10.1     |\n",
            "|-------------------------------+----------------------+----------------------+\n",
            "| GPU  Name        Persistence-M| Bus-Id        Disp.A | Volatile Uncorr. ECC |\n",
            "| Fan  Temp  Perf  Pwr:Usage/Cap|         Memory-Usage | GPU-Util  Compute M. |\n",
            "|===============================+======================+======================|\n",
            "|   0  Tesla P4            Off  | 00000000:00:04.0 Off |                    0 |\n",
            "| N/A   38C    P8     7W /  75W |      0MiB /  7611MiB |      0%      Default |\n",
            "+-------------------------------+----------------------+----------------------+\n",
            "                                                                               \n",
            "+-----------------------------------------------------------------------------+\n",
            "| Processes:                                                       GPU Memory |\n",
            "|  GPU       PID   Type   Process name                             Usage      |\n",
            "|=============================================================================|\n",
            "|  No running processes found                                                 |\n",
            "+-----------------------------------------------------------------------------+\n"
          ],
          "name": "stdout"
        }
      ]
    },
    {
      "cell_type": "code",
      "metadata": {
        "id": "z3H-W8-jaRQz",
        "colab_type": "code",
        "colab": {
          "base_uri": "https://localhost:8080/",
          "height": 202
        },
        "outputId": "1f43988b-e433-4f76-8b94-f0212c392a5b"
      },
      "source": [
        "!wget -P /content/XRays https://codeload.github.com/matheusAltomare/covid19XRayClassification/zip/master"
      ],
      "execution_count": 43,
      "outputs": [
        {
          "output_type": "stream",
          "text": [
            "--2020-04-01 11:33:35--  https://codeload.github.com/matheusAltomare/covid19XRayClassification/zip/master\n",
            "Resolving codeload.github.com (codeload.github.com)... 140.82.112.9\n",
            "Connecting to codeload.github.com (codeload.github.com)|140.82.112.9|:443... connected.\n",
            "HTTP request sent, awaiting response... 200 OK\n",
            "Length: unspecified [application/zip]\n",
            "Saving to: ‘/content/XRays/master’\n",
            "\n",
            "master                  [        <=>         ]  35.76M  21.0MB/s    in 1.7s    \n",
            "\n",
            "2020-04-01 11:33:37 (21.0 MB/s) - ‘/content/XRays/master’ saved [37494967]\n",
            "\n"
          ],
          "name": "stdout"
        }
      ]
    },
    {
      "cell_type": "code",
      "metadata": {
        "id": "cJOO3jxIbCto",
        "colab_type": "code",
        "colab": {
          "base_uri": "https://localhost:8080/",
          "height": 1000
        },
        "outputId": "6bf3ff64-db4b-46ed-c7ea-cc0c8fb7d53c"
      },
      "source": [
        "!unzip /content/XRays/master.zip -d /content/XRays/COVID19"
      ],
      "execution_count": 51,
      "outputs": [
        {
          "output_type": "stream",
          "text": [
            "Archive:  /content/XRays/master.zip\n",
            "5d48a5e3a836be42ec0db72d09df7fc94d4edaa9\n",
            "   creating: /content/XRays/COVID19/covid19XRayClassification-master/\n",
            "   creating: /content/XRays/COVID19/covid19XRayClassification-master/.ipynb_checkpoints/\n",
            "  inflating: /content/XRays/COVID19/covid19XRayClassification-master/.ipynb_checkpoints/VGG19-checkpoint.ipynb  \n",
            "  inflating: /content/XRays/COVID19/covid19XRayClassification-master/README.md  \n",
            "  inflating: /content/XRays/COVID19/covid19XRayClassification-master/VGG19.ipynb  \n",
            "   creating: /content/XRays/COVID19/covid19XRayClassification-master/dataset/\n",
            "   creating: /content/XRays/COVID19/covid19XRayClassification-master/dataset/covid-19/\n",
            "  inflating: /content/XRays/COVID19/covid19XRayClassification-master/dataset/covid-19/01E392EE-69F9-4E33-BFCE-E5C968654078.jpeg  \n",
            "  inflating: /content/XRays/COVID19/covid19XRayClassification-master/dataset/covid-19/1-s2.0-S0140673620303706-fx1_lrg.jpg  \n",
            "  inflating: /content/XRays/COVID19/covid19XRayClassification-master/dataset/covid-19/1-s2.0-S0929664620300449-gr2_lrg-a.jpg  \n",
            "  inflating: /content/XRays/COVID19/covid19XRayClassification-master/dataset/covid-19/1-s2.0-S0929664620300449-gr2_lrg-b.jpg  \n",
            "  inflating: /content/XRays/COVID19/covid19XRayClassification-master/dataset/covid-19/1-s2.0-S0929664620300449-gr2_lrg-c.jpg  \n",
            "  inflating: /content/XRays/COVID19/covid19XRayClassification-master/dataset/covid-19/1-s2.0-S0929664620300449-gr2_lrg-d.jpg  \n",
            "  inflating: /content/XRays/COVID19/covid19XRayClassification-master/dataset/covid-19/1-s2.0-S1684118220300608-main.pdf-001.jpg  \n",
            "  inflating: /content/XRays/COVID19/covid19XRayClassification-master/dataset/covid-19/1-s2.0-S1684118220300608-main.pdf-002.jpg  \n",
            "  inflating: /content/XRays/COVID19/covid19XRayClassification-master/dataset/covid-19/1312A392-67A3-4EBF-9319-810CF6DA5EF6.jpeg  \n",
            "  inflating: /content/XRays/COVID19/covid19XRayClassification-master/dataset/covid-19/1B734A89-A1BF-49A8-A1D3-66FAFA4FAC5D.jpeg  \n",
            " extracting: /content/XRays/COVID19/covid19XRayClassification-master/dataset/covid-19/23E99E2E-447C-46E5-8EB2-D35D12473C39.png  \n",
            "  inflating: /content/XRays/COVID19/covid19XRayClassification-master/dataset/covid-19/2C26F453-AF3B-4517-BB9E-802CF2179543.jpeg  \n",
            "  inflating: /content/XRays/COVID19/covid19XRayClassification-master/dataset/covid-19/31BA3780-2323-493F-8AED-62081B9C383B.jpeg  \n",
            "  inflating: /content/XRays/COVID19/covid19XRayClassification-master/dataset/covid-19/446B2CB6-B572-40AB-B01F-1910CA07086A.jpeg  \n",
            "  inflating: /content/XRays/COVID19/covid19XRayClassification-master/dataset/covid-19/6CB4EFC6-68FA-4CD5-940C-BEFA8DAFE9A7.jpeg  \n",
            "  inflating: /content/XRays/COVID19/covid19XRayClassification-master/dataset/covid-19/7AF6C1AF-D249-4BD2-8C26-449304105D03.jpeg  \n",
            "  inflating: /content/XRays/COVID19/covid19XRayClassification-master/dataset/covid-19/7C69C012-7479-493F-8722-ABC29C60A2DD.jpeg  \n",
            "  inflating: /content/XRays/COVID19/covid19XRayClassification-master/dataset/covid-19/80446565-E090-4187-A031-9D3CEAA586C8.jpeg  \n",
            "  inflating: /content/XRays/COVID19/covid19XRayClassification-master/dataset/covid-19/85E52EB3-56E9-4D67-82DA-DEA247C82886.jpeg  \n",
            "  inflating: /content/XRays/COVID19/covid19XRayClassification-master/dataset/covid-19/8FDE8DBA-CFBD-4B4C-B1A4-6F36A93B7E87.jpeg  \n",
            "  inflating: /content/XRays/COVID19/covid19XRayClassification-master/dataset/covid-19/93FE0BB1-022D-4F24-9727-987A07975FFB.jpeg  \n",
            "  inflating: /content/XRays/COVID19/covid19XRayClassification-master/dataset/covid-19/9C34AF49-E589-44D5-92D3-168B3B04E4A6.jpeg  \n",
            "  inflating: /content/XRays/COVID19/covid19XRayClassification-master/dataset/covid-19/CD50BA96-6982-4C80-AE7B-5F67ACDBFA56.jpeg  \n",
            "  inflating: /content/XRays/COVID19/covid19XRayClassification-master/dataset/covid-19/D7AF463C-2369-492D-908D-BE1911CCD74C.jpeg  \n",
            "  inflating: /content/XRays/COVID19/covid19XRayClassification-master/dataset/covid-19/E63574A7-4188-4C8D-8D17-9D67A18A1AFA.jpeg  \n",
            "  inflating: /content/XRays/COVID19/covid19XRayClassification-master/dataset/covid-19/F2DE909F-E19C-4900-92F5-8F435B031AC6.jpeg  \n",
            "  inflating: /content/XRays/COVID19/covid19XRayClassification-master/dataset/covid-19/F4341CE7-73C9-45C6-99C8-8567A5484B63.jpeg  \n",
            "  inflating: /content/XRays/COVID19/covid19XRayClassification-master/dataset/covid-19/F63AB6CE-1968-4154-A70F-913AF154F53D.jpeg  \n",
            "  inflating: /content/XRays/COVID19/covid19XRayClassification-master/dataset/covid-19/all14238-fig-0001-m-b.jpg  \n",
            "  inflating: /content/XRays/COVID19/covid19XRayClassification-master/dataset/covid-19/all14238-fig-0001-m-c.jpg  \n",
            "  inflating: /content/XRays/COVID19/covid19XRayClassification-master/dataset/covid-19/all14238-fig-0002-m-d.jpg  \n",
            "  inflating: /content/XRays/COVID19/covid19XRayClassification-master/dataset/covid-19/all14238-fig-0002-m-e.jpg  \n",
            "  inflating: /content/XRays/COVID19/covid19XRayClassification-master/dataset/covid-19/all14238-fig-0002-m-f.jpg  \n",
            "  inflating: /content/XRays/COVID19/covid19XRayClassification-master/dataset/covid-19/auntminnie-a-2020_01_28_23_51_6665_2020_01_28_Vietnam_coronavirus.jpeg  \n",
            "  inflating: /content/XRays/COVID19/covid19XRayClassification-master/dataset/covid-19/auntminnie-b-2020_01_28_23_51_6665_2020_01_28_Vietnam_coronavirus.jpeg  \n",
            "  inflating: /content/XRays/COVID19/covid19XRayClassification-master/dataset/covid-19/auntminnie-c-2020_01_28_23_51_6665_2020_01_28_Vietnam_coronavirus.jpeg  \n",
            "  inflating: /content/XRays/COVID19/covid19XRayClassification-master/dataset/covid-19/auntminnie-d-2020_01_28_23_51_6665_2020_01_28_Vietnam_coronavirus.jpeg  \n",
            "  inflating: /content/XRays/COVID19/covid19XRayClassification-master/dataset/covid-19/ciaa199.pdf-001-a.png  \n",
            "  inflating: /content/XRays/COVID19/covid19XRayClassification-master/dataset/covid-19/ciaa199.pdf-001-b.png  \n",
            "  inflating: /content/XRays/COVID19/covid19XRayClassification-master/dataset/covid-19/ciaa199.pdf-001-c.png  \n",
            "  inflating: /content/XRays/COVID19/covid19XRayClassification-master/dataset/covid-19/covid-19-pneumonia-12.jpg  \n",
            " extracting: /content/XRays/COVID19/covid19XRayClassification-master/dataset/covid-19/covid-19-pneumonia-14-PA.png  \n",
            "  inflating: /content/XRays/COVID19/covid19XRayClassification-master/dataset/covid-19/covid-19-pneumonia-15-PA.jpg  \n",
            "  inflating: /content/XRays/COVID19/covid19XRayClassification-master/dataset/covid-19/covid-19-pneumonia-2.jpg  \n",
            "  inflating: /content/XRays/COVID19/covid19XRayClassification-master/dataset/covid-19/covid-19-pneumonia-7-PA.jpg  \n",
            "  inflating: /content/XRays/COVID19/covid19XRayClassification-master/dataset/covid-19/kjr-21-e24-g001-l-a.jpg  \n",
            "  inflating: /content/XRays/COVID19/covid19XRayClassification-master/dataset/covid-19/kjr-21-e24-g002-l-a.jpg  \n",
            "  inflating: /content/XRays/COVID19/covid19XRayClassification-master/dataset/covid-19/kjr-21-e24-g003-l-a.jpg  \n",
            "  inflating: /content/XRays/COVID19/covid19XRayClassification-master/dataset/covid-19/kjr-21-e25-g001-l-a.jpg  \n",
            "  inflating: /content/XRays/COVID19/covid19XRayClassification-master/dataset/covid-19/lancet-case2a.jpg  \n",
            "  inflating: /content/XRays/COVID19/covid19XRayClassification-master/dataset/covid-19/lancet-case2b.jpg  \n",
            "  inflating: /content/XRays/COVID19/covid19XRayClassification-master/dataset/covid-19/nCoV-radiol.2020200269.fig1-day7.jpeg  \n",
            "  inflating: /content/XRays/COVID19/covid19XRayClassification-master/dataset/covid-19/nejmc2001573_f1a.jpeg  \n",
            "  inflating: /content/XRays/COVID19/covid19XRayClassification-master/dataset/covid-19/nejmc2001573_f1b.jpeg  \n",
            "  inflating: /content/XRays/COVID19/covid19XRayClassification-master/dataset/covid-19/nejmoa2001191_f1-PA.jpeg  \n",
            "  inflating: /content/XRays/COVID19/covid19XRayClassification-master/dataset/covid-19/nejmoa2001191_f3-PA.jpeg  \n",
            "  inflating: /content/XRays/COVID19/covid19XRayClassification-master/dataset/covid-19/nejmoa2001191_f4.jpeg  \n",
            "  inflating: /content/XRays/COVID19/covid19XRayClassification-master/dataset/covid-19/nejmoa2001191_f5-PA.jpeg  \n",
            "  inflating: /content/XRays/COVID19/covid19XRayClassification-master/dataset/covid-19/radiol.2020200490.fig3.jpeg  \n",
            "  inflating: /content/XRays/COVID19/covid19XRayClassification-master/dataset/covid-19/ryct.2020200028.fig1a.jpeg  \n",
            "  inflating: /content/XRays/COVID19/covid19XRayClassification-master/dataset/covid-19/ryct.2020200034.fig2.jpeg  \n",
            "  inflating: /content/XRays/COVID19/covid19XRayClassification-master/dataset/covid-19/ryct.2020200034.fig5-day0.jpeg  \n",
            "  inflating: /content/XRays/COVID19/covid19XRayClassification-master/dataset/covid-19/ryct.2020200034.fig5-day4.jpeg  \n",
            "  inflating: /content/XRays/COVID19/covid19XRayClassification-master/dataset/covid-19/ryct.2020200034.fig5-day7.jpeg  \n",
            "   creating: /content/XRays/COVID19/covid19XRayClassification-master/dataset/normal/\n",
            "  inflating: /content/XRays/COVID19/covid19XRayClassification-master/dataset/normal/IM-0011-0001-0001.jpeg  \n",
            "  inflating: /content/XRays/COVID19/covid19XRayClassification-master/dataset/normal/IM-0011-0001-0002.jpeg  \n",
            "  inflating: /content/XRays/COVID19/covid19XRayClassification-master/dataset/normal/IM-0013-0001.jpeg  \n",
            "  inflating: /content/XRays/COVID19/covid19XRayClassification-master/dataset/normal/IM-0015-0001.jpeg  \n",
            "  inflating: /content/XRays/COVID19/covid19XRayClassification-master/dataset/normal/IM-0016-0001.jpeg  \n",
            "  inflating: /content/XRays/COVID19/covid19XRayClassification-master/dataset/normal/IM-0017-0001.jpeg  \n",
            "  inflating: /content/XRays/COVID19/covid19XRayClassification-master/dataset/normal/IM-0019-0001.jpeg  \n",
            "  inflating: /content/XRays/COVID19/covid19XRayClassification-master/dataset/normal/IM-0021-0001.jpeg  \n",
            "  inflating: /content/XRays/COVID19/covid19XRayClassification-master/dataset/normal/IM-0022-0001.jpeg  \n",
            "  inflating: /content/XRays/COVID19/covid19XRayClassification-master/dataset/normal/IM-0023-0001.jpeg  \n",
            "  inflating: /content/XRays/COVID19/covid19XRayClassification-master/dataset/normal/IM-0025-0001.jpeg  \n",
            "  inflating: /content/XRays/COVID19/covid19XRayClassification-master/dataset/normal/IM-0027-0001.jpeg  \n",
            "  inflating: /content/XRays/COVID19/covid19XRayClassification-master/dataset/normal/IM-0028-0001.jpeg  \n",
            "  inflating: /content/XRays/COVID19/covid19XRayClassification-master/dataset/normal/IM-0029-0001.jpeg  \n",
            "  inflating: /content/XRays/COVID19/covid19XRayClassification-master/dataset/normal/IM-0030-0001.jpeg  \n",
            "  inflating: /content/XRays/COVID19/covid19XRayClassification-master/dataset/normal/IM-0031-0001.jpeg  \n",
            "  inflating: /content/XRays/COVID19/covid19XRayClassification-master/dataset/normal/IM-0033-0001-0001.jpeg  \n",
            "  inflating: /content/XRays/COVID19/covid19XRayClassification-master/dataset/normal/IM-0033-0001-0002.jpeg  \n",
            "  inflating: /content/XRays/COVID19/covid19XRayClassification-master/dataset/normal/IM-0033-0001.jpeg  \n",
            "  inflating: /content/XRays/COVID19/covid19XRayClassification-master/dataset/normal/IM-0035-0001.jpeg  \n",
            "  inflating: /content/XRays/COVID19/covid19XRayClassification-master/dataset/normal/IM-0036-0001.jpeg  \n",
            "  inflating: /content/XRays/COVID19/covid19XRayClassification-master/dataset/normal/IM-0037-0001.jpeg  \n",
            "  inflating: /content/XRays/COVID19/covid19XRayClassification-master/dataset/normal/IM-0039-0001.jpeg  \n",
            "  inflating: /content/XRays/COVID19/covid19XRayClassification-master/dataset/normal/IM-0041-0001.jpeg  \n",
            "  inflating: /content/XRays/COVID19/covid19XRayClassification-master/dataset/normal/IM-0043-0001.jpeg  \n",
            "  inflating: /content/XRays/COVID19/covid19XRayClassification-master/dataset/normal/IM-0045-0001.jpeg  \n",
            "  inflating: /content/XRays/COVID19/covid19XRayClassification-master/dataset/normal/IM-0046-0001.jpeg  \n",
            "  inflating: /content/XRays/COVID19/covid19XRayClassification-master/dataset/normal/IM-0049-0001.jpeg  \n",
            "  inflating: /content/XRays/COVID19/covid19XRayClassification-master/dataset/normal/IM-0050-0001.jpeg  \n",
            "  inflating: /content/XRays/COVID19/covid19XRayClassification-master/dataset/normal/IM-0059-0001.jpeg  \n",
            "  inflating: /content/XRays/COVID19/covid19XRayClassification-master/dataset/normal/IM-0061-0001.jpeg  \n",
            "  inflating: /content/XRays/COVID19/covid19XRayClassification-master/dataset/normal/IM-0063-0001.jpeg  \n",
            "  inflating: /content/XRays/COVID19/covid19XRayClassification-master/dataset/normal/IM-0065-0001.jpeg  \n",
            "  inflating: /content/XRays/COVID19/covid19XRayClassification-master/dataset/normal/IM-0067-0001.jpeg  \n",
            "  inflating: /content/XRays/COVID19/covid19XRayClassification-master/dataset/normal/IM-0069-0001.jpeg  \n",
            "  inflating: /content/XRays/COVID19/covid19XRayClassification-master/dataset/normal/IM-0070-0001.jpeg  \n",
            "  inflating: /content/XRays/COVID19/covid19XRayClassification-master/dataset/normal/IM-0071-0001.jpeg  \n",
            "  inflating: /content/XRays/COVID19/covid19XRayClassification-master/dataset/normal/IM-0073-0001.jpeg  \n",
            "  inflating: /content/XRays/COVID19/covid19XRayClassification-master/dataset/normal/IM-0075-0001.jpeg  \n",
            "  inflating: /content/XRays/COVID19/covid19XRayClassification-master/dataset/normal/IM-0077-0001.jpeg  \n",
            "  inflating: /content/XRays/COVID19/covid19XRayClassification-master/dataset/normal/IM-0079-0001.jpeg  \n",
            "  inflating: /content/XRays/COVID19/covid19XRayClassification-master/dataset/normal/IM-0081-0001.jpeg  \n",
            "  inflating: /content/XRays/COVID19/covid19XRayClassification-master/dataset/normal/IM-0083-0001.jpeg  \n",
            "  inflating: /content/XRays/COVID19/covid19XRayClassification-master/dataset/normal/IM-0084-0001.jpeg  \n",
            "  inflating: /content/XRays/COVID19/covid19XRayClassification-master/dataset/normal/IM-0085-0001.jpeg  \n",
            "  inflating: /content/XRays/COVID19/covid19XRayClassification-master/dataset/normal/IM-0086-0001.jpeg  \n",
            "  inflating: /content/XRays/COVID19/covid19XRayClassification-master/dataset/normal/IM-0087-0001.jpeg  \n",
            "  inflating: /content/XRays/COVID19/covid19XRayClassification-master/dataset/normal/IM-0089-0001.jpeg  \n",
            "  inflating: /content/XRays/COVID19/covid19XRayClassification-master/dataset/normal/IM-0091-0001.jpeg  \n",
            "  inflating: /content/XRays/COVID19/covid19XRayClassification-master/dataset/normal/IM-0093-0001.jpeg  \n",
            "  inflating: /content/XRays/COVID19/covid19XRayClassification-master/dataset/normal/IM-0095-0001.jpeg  \n",
            "  inflating: /content/XRays/COVID19/covid19XRayClassification-master/dataset/normal/IM-0097-0001.jpeg  \n",
            "  inflating: /content/XRays/COVID19/covid19XRayClassification-master/dataset/normal/IM-0099-0001.jpeg  \n",
            "  inflating: /content/XRays/COVID19/covid19XRayClassification-master/dataset/normal/IM-0101-0001.jpeg  \n",
            "  inflating: /content/XRays/COVID19/covid19XRayClassification-master/dataset/normal/IM-0102-0001.jpeg  \n",
            "  inflating: /content/XRays/COVID19/covid19XRayClassification-master/dataset/normal/IM-0103-0001.jpeg  \n",
            "  inflating: /content/XRays/COVID19/covid19XRayClassification-master/dataset/normal/IM-0105-0001.jpeg  \n",
            "  inflating: /content/XRays/COVID19/covid19XRayClassification-master/dataset/normal/IM-0107-0001.jpeg  \n",
            "  inflating: /content/XRays/COVID19/covid19XRayClassification-master/dataset/normal/IM-0109-0001.jpeg  \n",
            "  inflating: /content/XRays/COVID19/covid19XRayClassification-master/dataset/normal/IM-0110-0001.jpeg  \n",
            "  inflating: /content/XRays/COVID19/covid19XRayClassification-master/dataset/normal/IM-0111-0001.jpeg  \n",
            "  inflating: /content/XRays/COVID19/covid19XRayClassification-master/dataset/normal/NORMAL2-IM-0007-0001.jpeg  \n",
            "  inflating: /content/XRays/COVID19/covid19XRayClassification-master/dataset/normal/NORMAL2-IM-0012-0001.jpeg  \n",
            "  inflating: /content/XRays/COVID19/covid19XRayClassification-master/dataset/normal/NORMAL2-IM-0013-0001.jpeg  \n",
            "   creating: /content/XRays/COVID19/covid19XRayClassification-master/dataset/pneumonia/\n",
            "  inflating: /content/XRays/COVID19/covid19XRayClassification-master/dataset/pneumonia/person158_bacteria_742.jpeg  \n",
            "  inflating: /content/XRays/COVID19/covid19XRayClassification-master/dataset/pneumonia/person158_bacteria_743.jpeg  \n",
            "  inflating: /content/XRays/COVID19/covid19XRayClassification-master/dataset/pneumonia/person158_bacteria_744.jpeg  \n",
            "  inflating: /content/XRays/COVID19/covid19XRayClassification-master/dataset/pneumonia/person158_bacteria_745.jpeg  \n",
            "  inflating: /content/XRays/COVID19/covid19XRayClassification-master/dataset/pneumonia/person159_bacteria_746.jpeg  \n",
            "  inflating: /content/XRays/COVID19/covid19XRayClassification-master/dataset/pneumonia/person159_bacteria_747.jpeg  \n",
            "  inflating: /content/XRays/COVID19/covid19XRayClassification-master/dataset/pneumonia/person1608_virus_2786.jpeg  \n",
            "  inflating: /content/XRays/COVID19/covid19XRayClassification-master/dataset/pneumonia/person1610_virus_2793.jpeg  \n",
            "  inflating: /content/XRays/COVID19/covid19XRayClassification-master/dataset/pneumonia/person1612_virus_2797.jpeg  \n",
            "  inflating: /content/XRays/COVID19/covid19XRayClassification-master/dataset/pneumonia/person1612_virus_2798.jpeg  \n",
            "  inflating: /content/XRays/COVID19/covid19XRayClassification-master/dataset/pneumonia/person1613_virus_2799.jpeg  \n",
            "  inflating: /content/XRays/COVID19/covid19XRayClassification-master/dataset/pneumonia/person1614_virus_2800.jpeg  \n",
            "  inflating: /content/XRays/COVID19/covid19XRayClassification-master/dataset/pneumonia/person1615_virus_2801.jpeg  \n",
            "  inflating: /content/XRays/COVID19/covid19XRayClassification-master/dataset/pneumonia/person1616_virus_2802.jpeg  \n",
            "  inflating: /content/XRays/COVID19/covid19XRayClassification-master/dataset/pneumonia/person1618_virus_2805.jpeg  \n",
            "  inflating: /content/XRays/COVID19/covid19XRayClassification-master/dataset/pneumonia/person1619_virus_2806.jpeg  \n",
            "  inflating: /content/XRays/COVID19/covid19XRayClassification-master/dataset/pneumonia/person161_bacteria_757.jpeg  \n",
            "  inflating: /content/XRays/COVID19/covid19XRayClassification-master/dataset/pneumonia/person161_bacteria_759.jpeg  \n",
            "  inflating: /content/XRays/COVID19/covid19XRayClassification-master/dataset/pneumonia/person161_bacteria_762.jpeg  \n",
            "  inflating: /content/XRays/COVID19/covid19XRayClassification-master/dataset/pneumonia/person1620_virus_2807.jpeg  \n",
            "  inflating: /content/XRays/COVID19/covid19XRayClassification-master/dataset/pneumonia/person1622_virus_2810.jpeg  \n",
            "  inflating: /content/XRays/COVID19/covid19XRayClassification-master/dataset/pneumonia/person1623_virus_2813.jpeg  \n",
            "  inflating: /content/XRays/COVID19/covid19XRayClassification-master/dataset/pneumonia/person1625_virus_2817.jpeg  \n",
            "  inflating: /content/XRays/COVID19/covid19XRayClassification-master/dataset/pneumonia/person1626_virus_2818.jpeg  \n",
            "  inflating: /content/XRays/COVID19/covid19XRayClassification-master/dataset/pneumonia/person1627_virus_2819.jpeg  \n",
            "  inflating: /content/XRays/COVID19/covid19XRayClassification-master/dataset/pneumonia/person1628_virus_2821.jpeg  \n",
            "  inflating: /content/XRays/COVID19/covid19XRayClassification-master/dataset/pneumonia/person1628_virus_2822.jpeg  \n",
            "  inflating: /content/XRays/COVID19/covid19XRayClassification-master/dataset/pneumonia/person1629_virus_2823.jpeg  \n",
            "  inflating: /content/XRays/COVID19/covid19XRayClassification-master/dataset/pneumonia/person1631_virus_2826.jpeg  \n",
            "  inflating: /content/XRays/COVID19/covid19XRayClassification-master/dataset/pneumonia/person1632_virus_2827.jpeg  \n",
            "  inflating: /content/XRays/COVID19/covid19XRayClassification-master/dataset/pneumonia/person1633_virus_2829.jpeg  \n",
            "  inflating: /content/XRays/COVID19/covid19XRayClassification-master/dataset/pneumonia/person1634_virus_2830.jpeg  \n",
            "  inflating: /content/XRays/COVID19/covid19XRayClassification-master/dataset/pneumonia/person1635_virus_2831.jpeg  \n",
            "  inflating: /content/XRays/COVID19/covid19XRayClassification-master/dataset/pneumonia/person1637_virus_2834.jpeg  \n",
            "  inflating: /content/XRays/COVID19/covid19XRayClassification-master/dataset/pneumonia/person1640_virus_2839.jpeg  \n",
            "  inflating: /content/XRays/COVID19/covid19XRayClassification-master/dataset/pneumonia/person1641_virus_2840.jpeg  \n",
            "  inflating: /content/XRays/COVID19/covid19XRayClassification-master/dataset/pneumonia/person1642_virus_2842.jpeg  \n",
            "  inflating: /content/XRays/COVID19/covid19XRayClassification-master/dataset/pneumonia/person1643_virus_2843.jpeg  \n",
            "  inflating: /content/XRays/COVID19/covid19XRayClassification-master/dataset/pneumonia/person1644_virus_2844.jpeg  \n",
            "  inflating: /content/XRays/COVID19/covid19XRayClassification-master/dataset/pneumonia/person1645_virus_2845.jpeg  \n",
            "  inflating: /content/XRays/COVID19/covid19XRayClassification-master/dataset/pneumonia/person1647_virus_2848.jpeg  \n",
            "  inflating: /content/XRays/COVID19/covid19XRayClassification-master/dataset/pneumonia/person1649_virus_2850.jpeg  \n",
            "  inflating: /content/XRays/COVID19/covid19XRayClassification-master/dataset/pneumonia/person1650_virus_2852.jpeg  \n",
            "  inflating: /content/XRays/COVID19/covid19XRayClassification-master/dataset/pneumonia/person1650_virus_2854.jpeg  \n",
            "  inflating: /content/XRays/COVID19/covid19XRayClassification-master/dataset/pneumonia/person1651_virus_2855.jpeg  \n",
            "  inflating: /content/XRays/COVID19/covid19XRayClassification-master/dataset/pneumonia/person1653_virus_2858.jpeg  \n",
            "  inflating: /content/XRays/COVID19/covid19XRayClassification-master/dataset/pneumonia/person1653_virus_2859.jpeg  \n",
            "  inflating: /content/XRays/COVID19/covid19XRayClassification-master/dataset/pneumonia/person1655_virus_2861.jpeg  \n",
            "  inflating: /content/XRays/COVID19/covid19XRayClassification-master/dataset/pneumonia/person1656_virus_2862.jpeg  \n",
            "  inflating: /content/XRays/COVID19/covid19XRayClassification-master/dataset/pneumonia/person1657_virus_2864.jpeg  \n",
            "  inflating: /content/XRays/COVID19/covid19XRayClassification-master/dataset/pneumonia/person1659_virus_2867.jpeg  \n",
            "  inflating: /content/XRays/COVID19/covid19XRayClassification-master/dataset/pneumonia/person1660_virus_2869.jpeg  \n",
            "  inflating: /content/XRays/COVID19/covid19XRayClassification-master/dataset/pneumonia/person1661_virus_2872.jpeg  \n",
            "  inflating: /content/XRays/COVID19/covid19XRayClassification-master/dataset/pneumonia/person1661_virus_2873.jpeg  \n",
            "  inflating: /content/XRays/COVID19/covid19XRayClassification-master/dataset/pneumonia/person171_bacteria_826.jpeg  \n",
            "  inflating: /content/XRays/COVID19/covid19XRayClassification-master/dataset/pneumonia/person172_bacteria_827.jpeg  \n",
            "  inflating: /content/XRays/COVID19/covid19XRayClassification-master/dataset/pneumonia/person172_bacteria_828.jpeg  \n",
            "  inflating: /content/XRays/COVID19/covid19XRayClassification-master/dataset/pneumonia/person173_bacteria_829.jpeg  \n",
            "  inflating: /content/XRays/COVID19/covid19XRayClassification-master/dataset/pneumonia/person173_bacteria_830.jpeg  \n",
            "  inflating: /content/XRays/COVID19/covid19XRayClassification-master/dataset/pneumonia/person173_bacteria_831.jpeg  \n",
            "  inflating: /content/XRays/COVID19/covid19XRayClassification-master/dataset/pneumonia/person174_bacteria_832.jpeg  \n",
            "  inflating: /content/XRays/COVID19/covid19XRayClassification-master/dataset/pneumonia/person175_bacteria_833.jpeg  \n",
            "  inflating: /content/XRays/COVID19/covid19XRayClassification-master/dataset/pneumonia/person175_bacteria_834.jpeg  \n",
            "  inflating: /content/XRays/COVID19/covid19XRayClassification-master/dataset/pneumonia/person175_bacteria_835.jpeg  \n"
          ],
          "name": "stdout"
        }
      ]
    },
    {
      "cell_type": "code",
      "metadata": {
        "id": "S7C9NnFMbTpB",
        "colab_type": "code",
        "colab": {
          "base_uri": "https://localhost:8080/",
          "height": 34
        },
        "outputId": "6a11eea9-9d00-4d14-a308-c3a6766b8480"
      },
      "source": [
        "import shutil\n",
        "\n",
        "shutil.move('/content/XRays/COVID19/dataset/', '/content/XRays/',copy_function = shutil.copytree) "
      ],
      "execution_count": 59,
      "outputs": [
        {
          "output_type": "execute_result",
          "data": {
            "text/plain": [
              "'/content/XRays/dataset'"
            ]
          },
          "metadata": {
            "tags": []
          },
          "execution_count": 59
        }
      ]
    },
    {
      "cell_type": "code",
      "metadata": {
        "id": "PpNKAxQ-bdzl",
        "colab_type": "code",
        "colab": {}
      },
      "source": [
        " shutil.rmtree('/content/XRays/COVID19')"
      ],
      "execution_count": 0,
      "outputs": []
    },
    {
      "cell_type": "code",
      "metadata": {
        "id": "hcptIWB1bhEZ",
        "colab_type": "code",
        "colab": {}
      },
      "source": [
        "from PIL import Image\n",
        "from os import listdir\n",
        "from os.path import isdir\n",
        "import numpy as np\n",
        "from sklearn.model_selection import train_test_split\n",
        "from sklearn.preprocessing import LabelEncoder\n",
        "from tensorflow.keras.preprocessing.image import ImageDataGenerator\n",
        "from tensorflow.keras.applications import VGG19\n",
        "from tensorflow.keras.utils import to_categorical\n",
        "from tensorflow.keras import layers\n",
        "from tensorflow.keras import models\n",
        "from tensorflow.keras import optimizers"
      ],
      "execution_count": 0,
      "outputs": []
    },
    {
      "cell_type": "markdown",
      "metadata": {
        "id": "OwNp27kukmNb",
        "colab_type": "text"
      },
      "source": [
        "**LOAD IMAGES**"
      ]
    },
    {
      "cell_type": "code",
      "metadata": {
        "id": "_ML4p1nKcA2C",
        "colab_type": "code",
        "colab": {}
      },
      "source": [
        "def select_image(filename):\n",
        "    # load image from file\n",
        "    image = Image.open(filename)\n",
        "    # convert to RGB, if needed\n",
        "    image = image.convert('RGB')\n",
        "    image = image.resize((150,150))\n",
        "    # convert to array\n",
        "    return np.asarray(image)"
      ],
      "execution_count": 0,
      "outputs": []
    },
    {
      "cell_type": "markdown",
      "metadata": {
        "id": "HL5ITD6-kuZ1",
        "colab_type": "text"
      },
      "source": [
        "**LOAD CLASSES FROM IMAGES**"
      ]
    },
    {
      "cell_type": "code",
      "metadata": {
        "id": "rm0JZp4CdNOL",
        "colab_type": "code",
        "colab": {}
      },
      "source": [
        "def load_classes(directory, classs, images, labels):\n",
        "    #file iterations\n",
        "\n",
        "    for filename in listdir(directory):\n",
        "        path = directory + filename\n",
        "        try:\n",
        "            images.append(select_image(path))\n",
        "            labels.append(classs)\n",
        "        except:\n",
        "\n",
        "            print(\"Error loading image {}\".format(path))\n",
        "    return images, labels"
      ],
      "execution_count": 0,
      "outputs": []
    },
    {
      "cell_type": "markdown",
      "metadata": {
        "id": "JQGBUDDClpjV",
        "colab_type": "text"
      },
      "source": [
        "**SELECTING DATASET**"
      ]
    },
    {
      "cell_type": "code",
      "metadata": {
        "id": "zBX804qIdt3g",
        "colab_type": "code",
        "colab": {}
      },
      "source": [
        "def select_data_set(directory):\n",
        "\n",
        "    images = list()\n",
        "    labels = list()\n",
        "\n",
        "    for subdir in listdir(directory):\n",
        "        # path\n",
        "        path = directory + subdir + '/'\n",
        "\n",
        "        if not isdir(path):\n",
        "            continue\n",
        "        images, labels = load_classes(path, subdir, images, labels)\n",
        "\n",
        "    return images, labels"
      ],
      "execution_count": 0,
      "outputs": []
    },
    {
      "cell_type": "code",
      "metadata": {
        "id": "ERYXFe9Ul1Ol",
        "colab_type": "code",
        "colab": {
          "base_uri": "https://localhost:8080/",
          "height": 638
        },
        "outputId": "7e264869-61e4-4e23-c936-0148d6d2a317"
      },
      "source": [
        "covid_dataset = \"/content/XRays/dataset/\"\n",
        "images, labels  = select_data_set(covid_dataset)\n",
        "images = np.array(images) / 255.0  ## convertendo de lista para array\n",
        "labels = np.array(labels)  ## convertendo de lista para array\n",
        "labels"
      ],
      "execution_count": 83,
      "outputs": [
        {
          "output_type": "execute_result",
          "data": {
            "text/plain": [
              "array(['normal', 'normal', 'normal', 'normal', 'normal', 'normal',\n",
              "       'normal', 'normal', 'normal', 'normal', 'normal', 'normal',\n",
              "       'normal', 'normal', 'normal', 'normal', 'normal', 'normal',\n",
              "       'normal', 'normal', 'normal', 'normal', 'normal', 'normal',\n",
              "       'normal', 'normal', 'normal', 'normal', 'normal', 'normal',\n",
              "       'normal', 'normal', 'normal', 'normal', 'normal', 'normal',\n",
              "       'normal', 'normal', 'normal', 'normal', 'normal', 'normal',\n",
              "       'normal', 'normal', 'normal', 'normal', 'normal', 'normal',\n",
              "       'normal', 'normal', 'normal', 'normal', 'normal', 'normal',\n",
              "       'normal', 'normal', 'normal', 'normal', 'normal', 'normal',\n",
              "       'normal', 'normal', 'normal', 'normal', 'pneumonia', 'pneumonia',\n",
              "       'pneumonia', 'pneumonia', 'pneumonia', 'pneumonia', 'pneumonia',\n",
              "       'pneumonia', 'pneumonia', 'pneumonia', 'pneumonia', 'pneumonia',\n",
              "       'pneumonia', 'pneumonia', 'pneumonia', 'pneumonia', 'pneumonia',\n",
              "       'pneumonia', 'pneumonia', 'pneumonia', 'pneumonia', 'pneumonia',\n",
              "       'pneumonia', 'pneumonia', 'pneumonia', 'pneumonia', 'pneumonia',\n",
              "       'pneumonia', 'pneumonia', 'pneumonia', 'pneumonia', 'pneumonia',\n",
              "       'pneumonia', 'pneumonia', 'pneumonia', 'pneumonia', 'pneumonia',\n",
              "       'pneumonia', 'pneumonia', 'pneumonia', 'pneumonia', 'pneumonia',\n",
              "       'pneumonia', 'pneumonia', 'pneumonia', 'pneumonia', 'pneumonia',\n",
              "       'pneumonia', 'pneumonia', 'pneumonia', 'pneumonia', 'pneumonia',\n",
              "       'pneumonia', 'pneumonia', 'pneumonia', 'pneumonia', 'pneumonia',\n",
              "       'pneumonia', 'pneumonia', 'pneumonia', 'pneumonia', 'pneumonia',\n",
              "       'pneumonia', 'pneumonia', 'covid-19', 'covid-19', 'covid-19',\n",
              "       'covid-19', 'covid-19', 'covid-19', 'covid-19', 'covid-19',\n",
              "       'covid-19', 'covid-19', 'covid-19', 'covid-19', 'covid-19',\n",
              "       'covid-19', 'covid-19', 'covid-19', 'covid-19', 'covid-19',\n",
              "       'covid-19', 'covid-19', 'covid-19', 'covid-19', 'covid-19',\n",
              "       'covid-19', 'covid-19', 'covid-19', 'covid-19', 'covid-19',\n",
              "       'covid-19', 'covid-19', 'covid-19', 'covid-19', 'covid-19',\n",
              "       'covid-19', 'covid-19', 'covid-19', 'covid-19', 'covid-19',\n",
              "       'covid-19', 'covid-19', 'covid-19', 'covid-19', 'covid-19',\n",
              "       'covid-19', 'covid-19', 'covid-19', 'covid-19', 'covid-19',\n",
              "       'covid-19', 'covid-19', 'covid-19', 'covid-19', 'covid-19',\n",
              "       'covid-19', 'covid-19', 'covid-19', 'covid-19', 'covid-19',\n",
              "       'covid-19', 'covid-19', 'covid-19', 'covid-19', 'covid-19',\n",
              "       'covid-19'], dtype='<U9')"
            ]
          },
          "metadata": {
            "tags": []
          },
          "execution_count": 83
        }
      ]
    },
    {
      "cell_type": "code",
      "metadata": {
        "id": "6OomSE9gmFlp",
        "colab_type": "code",
        "colab": {
          "base_uri": "https://localhost:8080/",
          "height": 1000
        },
        "outputId": "ca62bf5c-7108-499d-b01b-2586ae5c4a1e"
      },
      "source": [
        "encoder = LabelEncoder()\n",
        "labels = encoder.fit_transform(labels)\n",
        "labels = to_categorical(labels)\n",
        "labels"
      ],
      "execution_count": 84,
      "outputs": [
        {
          "output_type": "execute_result",
          "data": {
            "text/plain": [
              "array([[0., 1., 0.],\n",
              "       [0., 1., 0.],\n",
              "       [0., 1., 0.],\n",
              "       [0., 1., 0.],\n",
              "       [0., 1., 0.],\n",
              "       [0., 1., 0.],\n",
              "       [0., 1., 0.],\n",
              "       [0., 1., 0.],\n",
              "       [0., 1., 0.],\n",
              "       [0., 1., 0.],\n",
              "       [0., 1., 0.],\n",
              "       [0., 1., 0.],\n",
              "       [0., 1., 0.],\n",
              "       [0., 1., 0.],\n",
              "       [0., 1., 0.],\n",
              "       [0., 1., 0.],\n",
              "       [0., 1., 0.],\n",
              "       [0., 1., 0.],\n",
              "       [0., 1., 0.],\n",
              "       [0., 1., 0.],\n",
              "       [0., 1., 0.],\n",
              "       [0., 1., 0.],\n",
              "       [0., 1., 0.],\n",
              "       [0., 1., 0.],\n",
              "       [0., 1., 0.],\n",
              "       [0., 1., 0.],\n",
              "       [0., 1., 0.],\n",
              "       [0., 1., 0.],\n",
              "       [0., 1., 0.],\n",
              "       [0., 1., 0.],\n",
              "       [0., 1., 0.],\n",
              "       [0., 1., 0.],\n",
              "       [0., 1., 0.],\n",
              "       [0., 1., 0.],\n",
              "       [0., 1., 0.],\n",
              "       [0., 1., 0.],\n",
              "       [0., 1., 0.],\n",
              "       [0., 1., 0.],\n",
              "       [0., 1., 0.],\n",
              "       [0., 1., 0.],\n",
              "       [0., 1., 0.],\n",
              "       [0., 1., 0.],\n",
              "       [0., 1., 0.],\n",
              "       [0., 1., 0.],\n",
              "       [0., 1., 0.],\n",
              "       [0., 1., 0.],\n",
              "       [0., 1., 0.],\n",
              "       [0., 1., 0.],\n",
              "       [0., 1., 0.],\n",
              "       [0., 1., 0.],\n",
              "       [0., 1., 0.],\n",
              "       [0., 1., 0.],\n",
              "       [0., 1., 0.],\n",
              "       [0., 1., 0.],\n",
              "       [0., 1., 0.],\n",
              "       [0., 1., 0.],\n",
              "       [0., 1., 0.],\n",
              "       [0., 1., 0.],\n",
              "       [0., 1., 0.],\n",
              "       [0., 1., 0.],\n",
              "       [0., 1., 0.],\n",
              "       [0., 1., 0.],\n",
              "       [0., 1., 0.],\n",
              "       [0., 1., 0.],\n",
              "       [0., 0., 1.],\n",
              "       [0., 0., 1.],\n",
              "       [0., 0., 1.],\n",
              "       [0., 0., 1.],\n",
              "       [0., 0., 1.],\n",
              "       [0., 0., 1.],\n",
              "       [0., 0., 1.],\n",
              "       [0., 0., 1.],\n",
              "       [0., 0., 1.],\n",
              "       [0., 0., 1.],\n",
              "       [0., 0., 1.],\n",
              "       [0., 0., 1.],\n",
              "       [0., 0., 1.],\n",
              "       [0., 0., 1.],\n",
              "       [0., 0., 1.],\n",
              "       [0., 0., 1.],\n",
              "       [0., 0., 1.],\n",
              "       [0., 0., 1.],\n",
              "       [0., 0., 1.],\n",
              "       [0., 0., 1.],\n",
              "       [0., 0., 1.],\n",
              "       [0., 0., 1.],\n",
              "       [0., 0., 1.],\n",
              "       [0., 0., 1.],\n",
              "       [0., 0., 1.],\n",
              "       [0., 0., 1.],\n",
              "       [0., 0., 1.],\n",
              "       [0., 0., 1.],\n",
              "       [0., 0., 1.],\n",
              "       [0., 0., 1.],\n",
              "       [0., 0., 1.],\n",
              "       [0., 0., 1.],\n",
              "       [0., 0., 1.],\n",
              "       [0., 0., 1.],\n",
              "       [0., 0., 1.],\n",
              "       [0., 0., 1.],\n",
              "       [0., 0., 1.],\n",
              "       [0., 0., 1.],\n",
              "       [0., 0., 1.],\n",
              "       [0., 0., 1.],\n",
              "       [0., 0., 1.],\n",
              "       [0., 0., 1.],\n",
              "       [0., 0., 1.],\n",
              "       [0., 0., 1.],\n",
              "       [0., 0., 1.],\n",
              "       [0., 0., 1.],\n",
              "       [0., 0., 1.],\n",
              "       [0., 0., 1.],\n",
              "       [0., 0., 1.],\n",
              "       [0., 0., 1.],\n",
              "       [0., 0., 1.],\n",
              "       [0., 0., 1.],\n",
              "       [0., 0., 1.],\n",
              "       [0., 0., 1.],\n",
              "       [0., 0., 1.],\n",
              "       [0., 0., 1.],\n",
              "       [0., 0., 1.],\n",
              "       [0., 0., 1.],\n",
              "       [0., 0., 1.],\n",
              "       [0., 0., 1.],\n",
              "       [0., 0., 1.],\n",
              "       [0., 0., 1.],\n",
              "       [0., 0., 1.],\n",
              "       [0., 0., 1.],\n",
              "       [1., 0., 0.],\n",
              "       [1., 0., 0.],\n",
              "       [1., 0., 0.],\n",
              "       [1., 0., 0.],\n",
              "       [1., 0., 0.],\n",
              "       [1., 0., 0.],\n",
              "       [1., 0., 0.],\n",
              "       [1., 0., 0.],\n",
              "       [1., 0., 0.],\n",
              "       [1., 0., 0.],\n",
              "       [1., 0., 0.],\n",
              "       [1., 0., 0.],\n",
              "       [1., 0., 0.],\n",
              "       [1., 0., 0.],\n",
              "       [1., 0., 0.],\n",
              "       [1., 0., 0.],\n",
              "       [1., 0., 0.],\n",
              "       [1., 0., 0.],\n",
              "       [1., 0., 0.],\n",
              "       [1., 0., 0.],\n",
              "       [1., 0., 0.],\n",
              "       [1., 0., 0.],\n",
              "       [1., 0., 0.],\n",
              "       [1., 0., 0.],\n",
              "       [1., 0., 0.],\n",
              "       [1., 0., 0.],\n",
              "       [1., 0., 0.],\n",
              "       [1., 0., 0.],\n",
              "       [1., 0., 0.],\n",
              "       [1., 0., 0.],\n",
              "       [1., 0., 0.],\n",
              "       [1., 0., 0.],\n",
              "       [1., 0., 0.],\n",
              "       [1., 0., 0.],\n",
              "       [1., 0., 0.],\n",
              "       [1., 0., 0.],\n",
              "       [1., 0., 0.],\n",
              "       [1., 0., 0.],\n",
              "       [1., 0., 0.],\n",
              "       [1., 0., 0.],\n",
              "       [1., 0., 0.],\n",
              "       [1., 0., 0.],\n",
              "       [1., 0., 0.],\n",
              "       [1., 0., 0.],\n",
              "       [1., 0., 0.],\n",
              "       [1., 0., 0.],\n",
              "       [1., 0., 0.],\n",
              "       [1., 0., 0.],\n",
              "       [1., 0., 0.],\n",
              "       [1., 0., 0.],\n",
              "       [1., 0., 0.],\n",
              "       [1., 0., 0.],\n",
              "       [1., 0., 0.],\n",
              "       [1., 0., 0.],\n",
              "       [1., 0., 0.],\n",
              "       [1., 0., 0.],\n",
              "       [1., 0., 0.],\n",
              "       [1., 0., 0.],\n",
              "       [1., 0., 0.],\n",
              "       [1., 0., 0.],\n",
              "       [1., 0., 0.],\n",
              "       [1., 0., 0.],\n",
              "       [1., 0., 0.],\n",
              "       [1., 0., 0.]], dtype=float32)"
            ]
          },
          "metadata": {
            "tags": []
          },
          "execution_count": 84
        }
      ]
    },
    {
      "cell_type": "markdown",
      "metadata": {
        "id": "M6y26jwJnmsS",
        "colab_type": "text"
      },
      "source": [
        "**DEFINE HYPERPARAMETERS**"
      ]
    },
    {
      "cell_type": "code",
      "metadata": {
        "id": "HOMLIE-bmQFv",
        "colab_type": "code",
        "colab": {}
      },
      "source": [
        "batch_size   = 32\n",
        "input_shape  = (150, 150, 3)\n",
        "random_state = 42\n",
        "alpha        = 1e-5\n",
        "epoch        = 100"
      ],
      "execution_count": 0,
      "outputs": []
    },
    {
      "cell_type": "code",
      "metadata": {
        "id": "GDbYmExLnr4C",
        "colab_type": "code",
        "colab": {}
      },
      "source": [
        "from tensorflow.keras.callbacks import ModelCheckpoint, ReduceLROnPlateau"
      ],
      "execution_count": 0,
      "outputs": []
    },
    {
      "cell_type": "code",
      "metadata": {
        "id": "sb8My97bntkH",
        "colab_type": "code",
        "colab": {}
      },
      "source": [
        "filepath=\"transferlearning_weights.hdf5\"\n",
        "checkpoint = ModelCheckpoint(filepath, monitor='val_acc', verbose=1, save_best_only=True, mode='max')"
      ],
      "execution_count": 0,
      "outputs": []
    },
    {
      "cell_type": "code",
      "metadata": {
        "id": "kBi7gGoBnwv2",
        "colab_type": "code",
        "colab": {}
      },
      "source": [
        "lr_reduce = ReduceLROnPlateau(monitor='val_acc', factor=0.1, min_delta=alpha, patience=5, verbose=1)\n",
        "callbacks = [checkpoint, lr_reduce]"
      ],
      "execution_count": 0,
      "outputs": []
    },
    {
      "cell_type": "code",
      "metadata": {
        "id": "ouHuHd1qn4X2",
        "colab_type": "code",
        "colab": {}
      },
      "source": [
        "(trainX, testX, trainY, testY) = train_test_split(images, labels, test_size=0.20, stratify=labels, random_state=random_state)"
      ],
      "execution_count": 0,
      "outputs": []
    },
    {
      "cell_type": "markdown",
      "metadata": {
        "id": "d9QHIxLsn9QM",
        "colab_type": "text"
      },
      "source": [
        "**AUGUMENT DATA**"
      ]
    },
    {
      "cell_type": "code",
      "metadata": {
        "id": "rQGSt3-ln40O",
        "colab_type": "code",
        "colab": {}
      },
      "source": [
        "train_datagen = ImageDataGenerator(\n",
        "        rotation_range=20,\n",
        "        zoom_range=0.2)\n",
        "\n",
        "train_datagen.fit(trainX)\n",
        "\n",
        "data_aug = train_datagen.flow(trainX, trainY, batch_size=batch_size)"
      ],
      "execution_count": 0,
      "outputs": []
    },
    {
      "cell_type": "markdown",
      "metadata": {
        "id": "9hwl4-i3oigy",
        "colab_type": "text"
      },
      "source": [
        "*https://keras.io/applications/#vgg19*"
      ]
    },
    {
      "cell_type": "code",
      "metadata": {
        "id": "Yq3vHQ0JoCUS",
        "colab_type": "code",
        "colab": {
          "base_uri": "https://localhost:8080/",
          "height": 994
        },
        "outputId": "f6b77c83-b6ed-4881-f952-603d88b45b1d"
      },
      "source": [
        "conv_base = VGG19(weights='imagenet', include_top=False, input_shape=input_shape)\n",
        "\n",
        "conv_base.summary()"
      ],
      "execution_count": 93,
      "outputs": [
        {
          "output_type": "stream",
          "text": [
            "WARNING:tensorflow:From /usr/local/lib/python3.6/dist-packages/tensorflow/python/ops/resource_variable_ops.py:1666: calling BaseResourceVariable.__init__ (from tensorflow.python.ops.resource_variable_ops) with constraint is deprecated and will be removed in a future version.\n",
            "Instructions for updating:\n",
            "If using Keras pass *_constraint arguments to layers.\n",
            "Downloading data from https://storage.googleapis.com/tensorflow/keras-applications/vgg19/vgg19_weights_tf_dim_ordering_tf_kernels_notop.h5\n",
            "80142336/80134624 [==============================] - 0s 0us/step\n",
            "Model: \"vgg19\"\n",
            "_________________________________________________________________\n",
            "Layer (type)                 Output Shape              Param #   \n",
            "=================================================================\n",
            "input_1 (InputLayer)         [(None, 150, 150, 3)]     0         \n",
            "_________________________________________________________________\n",
            "block1_conv1 (Conv2D)        (None, 150, 150, 64)      1792      \n",
            "_________________________________________________________________\n",
            "block1_conv2 (Conv2D)        (None, 150, 150, 64)      36928     \n",
            "_________________________________________________________________\n",
            "block1_pool (MaxPooling2D)   (None, 75, 75, 64)        0         \n",
            "_________________________________________________________________\n",
            "block2_conv1 (Conv2D)        (None, 75, 75, 128)       73856     \n",
            "_________________________________________________________________\n",
            "block2_conv2 (Conv2D)        (None, 75, 75, 128)       147584    \n",
            "_________________________________________________________________\n",
            "block2_pool (MaxPooling2D)   (None, 37, 37, 128)       0         \n",
            "_________________________________________________________________\n",
            "block3_conv1 (Conv2D)        (None, 37, 37, 256)       295168    \n",
            "_________________________________________________________________\n",
            "block3_conv2 (Conv2D)        (None, 37, 37, 256)       590080    \n",
            "_________________________________________________________________\n",
            "block3_conv3 (Conv2D)        (None, 37, 37, 256)       590080    \n",
            "_________________________________________________________________\n",
            "block3_conv4 (Conv2D)        (None, 37, 37, 256)       590080    \n",
            "_________________________________________________________________\n",
            "block3_pool (MaxPooling2D)   (None, 18, 18, 256)       0         \n",
            "_________________________________________________________________\n",
            "block4_conv1 (Conv2D)        (None, 18, 18, 512)       1180160   \n",
            "_________________________________________________________________\n",
            "block4_conv2 (Conv2D)        (None, 18, 18, 512)       2359808   \n",
            "_________________________________________________________________\n",
            "block4_conv3 (Conv2D)        (None, 18, 18, 512)       2359808   \n",
            "_________________________________________________________________\n",
            "block4_conv4 (Conv2D)        (None, 18, 18, 512)       2359808   \n",
            "_________________________________________________________________\n",
            "block4_pool (MaxPooling2D)   (None, 9, 9, 512)         0         \n",
            "_________________________________________________________________\n",
            "block5_conv1 (Conv2D)        (None, 9, 9, 512)         2359808   \n",
            "_________________________________________________________________\n",
            "block5_conv2 (Conv2D)        (None, 9, 9, 512)         2359808   \n",
            "_________________________________________________________________\n",
            "block5_conv3 (Conv2D)        (None, 9, 9, 512)         2359808   \n",
            "_________________________________________________________________\n",
            "block5_conv4 (Conv2D)        (None, 9, 9, 512)         2359808   \n",
            "_________________________________________________________________\n",
            "block5_pool (MaxPooling2D)   (None, 4, 4, 512)         0         \n",
            "=================================================================\n",
            "Total params: 20,024,384\n",
            "Trainable params: 20,024,384\n",
            "Non-trainable params: 0\n",
            "_________________________________________________________________\n"
          ],
          "name": "stdout"
        }
      ]
    },
    {
      "cell_type": "markdown",
      "metadata": {
        "id": "43buqMbto0Z9",
        "colab_type": "text"
      },
      "source": [
        "*EXTRA PART OF VGG19*\n",
        "\n"
      ]
    },
    {
      "cell_type": "code",
      "metadata": {
        "id": "5tdZ_cFjoJhH",
        "colab_type": "code",
        "colab": {
          "base_uri": "https://localhost:8080/",
          "height": 890
        },
        "outputId": "28c8e823-d4cd-4e1a-a9ab-da38c7a8ee9c"
      },
      "source": [
        "conv_base.trainable = True\n",
        "set_trainable = False\n",
        "\n",
        "for layer in conv_base.layers:\n",
        "  if layer.name == 'block5_conv1':\n",
        "    set_trainable = True\n",
        "  if set_trainable:\n",
        "    layer.trainable = True\n",
        "  else:\n",
        "    layer.trainable = False\n",
        "\n",
        "conv_base.summary()"
      ],
      "execution_count": 94,
      "outputs": [
        {
          "output_type": "stream",
          "text": [
            "Model: \"vgg19\"\n",
            "_________________________________________________________________\n",
            "Layer (type)                 Output Shape              Param #   \n",
            "=================================================================\n",
            "input_1 (InputLayer)         [(None, 150, 150, 3)]     0         \n",
            "_________________________________________________________________\n",
            "block1_conv1 (Conv2D)        (None, 150, 150, 64)      1792      \n",
            "_________________________________________________________________\n",
            "block1_conv2 (Conv2D)        (None, 150, 150, 64)      36928     \n",
            "_________________________________________________________________\n",
            "block1_pool (MaxPooling2D)   (None, 75, 75, 64)        0         \n",
            "_________________________________________________________________\n",
            "block2_conv1 (Conv2D)        (None, 75, 75, 128)       73856     \n",
            "_________________________________________________________________\n",
            "block2_conv2 (Conv2D)        (None, 75, 75, 128)       147584    \n",
            "_________________________________________________________________\n",
            "block2_pool (MaxPooling2D)   (None, 37, 37, 128)       0         \n",
            "_________________________________________________________________\n",
            "block3_conv1 (Conv2D)        (None, 37, 37, 256)       295168    \n",
            "_________________________________________________________________\n",
            "block3_conv2 (Conv2D)        (None, 37, 37, 256)       590080    \n",
            "_________________________________________________________________\n",
            "block3_conv3 (Conv2D)        (None, 37, 37, 256)       590080    \n",
            "_________________________________________________________________\n",
            "block3_conv4 (Conv2D)        (None, 37, 37, 256)       590080    \n",
            "_________________________________________________________________\n",
            "block3_pool (MaxPooling2D)   (None, 18, 18, 256)       0         \n",
            "_________________________________________________________________\n",
            "block4_conv1 (Conv2D)        (None, 18, 18, 512)       1180160   \n",
            "_________________________________________________________________\n",
            "block4_conv2 (Conv2D)        (None, 18, 18, 512)       2359808   \n",
            "_________________________________________________________________\n",
            "block4_conv3 (Conv2D)        (None, 18, 18, 512)       2359808   \n",
            "_________________________________________________________________\n",
            "block4_conv4 (Conv2D)        (None, 18, 18, 512)       2359808   \n",
            "_________________________________________________________________\n",
            "block4_pool (MaxPooling2D)   (None, 9, 9, 512)         0         \n",
            "_________________________________________________________________\n",
            "block5_conv1 (Conv2D)        (None, 9, 9, 512)         2359808   \n",
            "_________________________________________________________________\n",
            "block5_conv2 (Conv2D)        (None, 9, 9, 512)         2359808   \n",
            "_________________________________________________________________\n",
            "block5_conv3 (Conv2D)        (None, 9, 9, 512)         2359808   \n",
            "_________________________________________________________________\n",
            "block5_conv4 (Conv2D)        (None, 9, 9, 512)         2359808   \n",
            "_________________________________________________________________\n",
            "block5_pool (MaxPooling2D)   (None, 4, 4, 512)         0         \n",
            "=================================================================\n",
            "Total params: 20,024,384\n",
            "Trainable params: 9,439,232\n",
            "Non-trainable params: 10,585,152\n",
            "_________________________________________________________________\n"
          ],
          "name": "stdout"
        }
      ]
    },
    {
      "cell_type": "markdown",
      "metadata": {
        "id": "vhaMK7q2o_70",
        "colab_type": "text"
      },
      "source": [
        "**CREATING A MODEL**"
      ]
    },
    {
      "cell_type": "code",
      "metadata": {
        "id": "zT_tkzEgo6li",
        "colab_type": "code",
        "colab": {}
      },
      "source": [
        "model = models.Sequential()\n",
        "model.add(conv_base)\n",
        "model.add(layers.GlobalAveragePooling2D())\n",
        "model.add(layers.BatchNormalization())\n",
        "model.add(layers.Flatten())\n",
        "model.add(layers.Dense(128, activation='relu'))\n",
        "model.add(layers.Dropout(0.6))\n",
        "model.add(layers.Dense(3, activation='softmax'))"
      ],
      "execution_count": 0,
      "outputs": []
    },
    {
      "cell_type": "code",
      "metadata": {
        "id": "gM6LHrxVpFel",
        "colab_type": "code",
        "colab": {
          "base_uri": "https://localhost:8080/",
          "height": 386
        },
        "outputId": "bb688616-aed7-491d-a4b7-e87e17ff65bf"
      },
      "source": [
        "model.summary()"
      ],
      "execution_count": 96,
      "outputs": [
        {
          "output_type": "stream",
          "text": [
            "Model: \"sequential\"\n",
            "_________________________________________________________________\n",
            "Layer (type)                 Output Shape              Param #   \n",
            "=================================================================\n",
            "vgg19 (Model)                (None, 4, 4, 512)         20024384  \n",
            "_________________________________________________________________\n",
            "global_average_pooling2d (Gl (None, 512)               0         \n",
            "_________________________________________________________________\n",
            "batch_normalization (BatchNo (None, 512)               2048      \n",
            "_________________________________________________________________\n",
            "flatten (Flatten)            (None, 512)               0         \n",
            "_________________________________________________________________\n",
            "dense (Dense)                (None, 128)               65664     \n",
            "_________________________________________________________________\n",
            "dropout (Dropout)            (None, 128)               0         \n",
            "_________________________________________________________________\n",
            "dense_1 (Dense)              (None, 3)                 387       \n",
            "=================================================================\n",
            "Total params: 20,092,483\n",
            "Trainable params: 9,506,307\n",
            "Non-trainable params: 10,586,176\n",
            "_________________________________________________________________\n"
          ],
          "name": "stdout"
        }
      ]
    },
    {
      "cell_type": "markdown",
      "metadata": {
        "id": "5A0zlmbMpN4P",
        "colab_type": "text"
      },
      "source": [
        "***COMPILE***"
      ]
    },
    {
      "cell_type": "code",
      "metadata": {
        "id": "lsaiD8qrpJEj",
        "colab_type": "code",
        "colab": {}
      },
      "source": [
        "model.compile(loss='binary_crossentropy',\n",
        "                  optimizer='adam',\n",
        "                  metrics=['acc'])"
      ],
      "execution_count": 0,
      "outputs": []
    },
    {
      "cell_type": "markdown",
      "metadata": {
        "id": "CDdGZLmVpTtS",
        "colab_type": "text"
      },
      "source": [
        "**TRAIN THE MODEL**"
      ]
    },
    {
      "cell_type": "code",
      "metadata": {
        "id": "IH_9Vki3pQ47",
        "colab_type": "code",
        "colab": {
          "base_uri": "https://localhost:8080/",
          "height": 1000
        },
        "outputId": "1e0fb43f-1003-468b-a6ce-0516e19b658a"
      },
      "source": [
        "history = model.fit_generator(\n",
        "                              data_aug,\n",
        "                              steps_per_epoch=len(trainX)// batch_size, # parte inteira da divisão\n",
        "                              validation_data=(testX, testY),\n",
        "                              validation_steps=len(testX) // batch_size,# parte inteira da divisão\n",
        "                              callbacks=callbacks,\n",
        "                              epochs=epoch)"
      ],
      "execution_count": 98,
      "outputs": [
        {
          "output_type": "stream",
          "text": [
            "WARNING:tensorflow:From <ipython-input-98-2fcaeedfb370>:7: Model.fit_generator (from tensorflow.python.keras.engine.training_v1) is deprecated and will be removed in a future version.\n",
            "Instructions for updating:\n",
            "Please use Model.fit, which supports generators.\n",
            "Epoch 1/100\n",
            "4/4 [==============================] - ETA: 0s - loss: 0.6318 - acc: 0.7292\n",
            "Epoch 00001: val_acc improved from -inf to 0.55556, saving model to transferlearning_weights.hdf5\n",
            "4/4 [==============================] - 2s 392ms/step - loss: 0.6318 - acc: 0.7292 - val_loss: 1.8545 - val_acc: 0.5556 - lr: 0.0010\n",
            "Epoch 2/100\n",
            "4/4 [==============================] - ETA: 0s - loss: 0.3789 - acc: 0.8512\n",
            "Epoch 00002: val_acc did not improve from 0.55556\n",
            "4/4 [==============================] - 1s 157ms/step - loss: 0.3788 - acc: 0.8512 - val_loss: 7.0067 - val_acc: 0.5556 - lr: 0.0010\n",
            "Epoch 3/100\n",
            "4/4 [==============================] - ETA: 0s - loss: 0.3696 - acc: 0.8402\n",
            "Epoch 00003: val_acc improved from 0.55556 to 0.69231, saving model to transferlearning_weights.hdf5\n",
            "4/4 [==============================] - 1s 208ms/step - loss: 0.3694 - acc: 0.8402 - val_loss: 1.4559 - val_acc: 0.6923 - lr: 0.0010\n",
            "Epoch 4/100\n",
            "4/4 [==============================] - ETA: 0s - loss: 0.3289 - acc: 0.8815\n",
            "Epoch 00004: val_acc did not improve from 0.69231\n",
            "4/4 [==============================] - 1s 153ms/step - loss: 0.3295 - acc: 0.8815 - val_loss: 3.3672 - val_acc: 0.6581 - lr: 0.0010\n",
            "Epoch 5/100\n",
            "4/4 [==============================] - ETA: 0s - loss: 0.2220 - acc: 0.9394\n",
            "Epoch 00005: val_acc did not improve from 0.69231\n",
            "4/4 [==============================] - 1s 315ms/step - loss: 0.2220 - acc: 0.9394 - val_loss: 3.2692 - val_acc: 0.6752 - lr: 0.0010\n",
            "Epoch 6/100\n",
            "4/4 [==============================] - ETA: 0s - loss: 0.1607 - acc: 0.9427\n",
            "Epoch 00006: val_acc did not improve from 0.69231\n",
            "4/4 [==============================] - 1s 152ms/step - loss: 0.1607 - acc: 0.9427 - val_loss: 4.4000 - val_acc: 0.5897 - lr: 0.0010\n",
            "Epoch 7/100\n",
            "4/4 [==============================] - ETA: 0s - loss: 0.1496 - acc: 0.9477\n",
            "Epoch 00007: val_acc did not improve from 0.69231\n",
            "4/4 [==============================] - 1s 153ms/step - loss: 0.1501 - acc: 0.9477 - val_loss: 4.8969 - val_acc: 0.5726 - lr: 0.0010\n",
            "Epoch 8/100\n",
            "4/4 [==============================] - ETA: 0s - loss: 0.0910 - acc: 0.9669\n",
            "Epoch 00008: val_acc improved from 0.69231 to 0.84615, saving model to transferlearning_weights.hdf5\n",
            "4/4 [==============================] - 1s 217ms/step - loss: 0.0911 - acc: 0.9669 - val_loss: 1.0639 - val_acc: 0.8462 - lr: 0.0010\n",
            "Epoch 9/100\n",
            "4/4 [==============================] - ETA: 0s - loss: 0.0987 - acc: 0.9725\n",
            "Epoch 00009: val_acc did not improve from 0.84615\n",
            "4/4 [==============================] - 1s 151ms/step - loss: 0.0989 - acc: 0.9725 - val_loss: 6.2908 - val_acc: 0.5726 - lr: 0.0010\n",
            "Epoch 10/100\n",
            "4/4 [==============================] - ETA: 0s - loss: 0.1048 - acc: 0.9504\n",
            "Epoch 00010: val_acc did not improve from 0.84615\n",
            "4/4 [==============================] - 1s 149ms/step - loss: 0.1056 - acc: 0.9504 - val_loss: 6.4094 - val_acc: 0.5726 - lr: 0.0010\n",
            "Epoch 11/100\n",
            "4/4 [==============================] - ETA: 0s - loss: 0.0666 - acc: 0.9792\n",
            "Epoch 00011: val_acc did not improve from 0.84615\n",
            "4/4 [==============================] - 1s 157ms/step - loss: 0.0666 - acc: 0.9792 - val_loss: 3.8422 - val_acc: 0.6752 - lr: 0.0010\n",
            "Epoch 12/100\n",
            "4/4 [==============================] - ETA: 0s - loss: 0.0632 - acc: 0.9835\n",
            "Epoch 00012: val_acc did not improve from 0.84615\n",
            "4/4 [==============================] - 1s 154ms/step - loss: 0.0633 - acc: 0.9835 - val_loss: 1.9682 - val_acc: 0.7265 - lr: 0.0010\n",
            "Epoch 13/100\n",
            "4/4 [==============================] - ETA: 0s - loss: 0.0326 - acc: 0.9890\n",
            "Epoch 00013: val_acc did not improve from 0.84615\n",
            "\n",
            "Epoch 00013: ReduceLROnPlateau reducing learning rate to 0.00010000000474974513.\n",
            "4/4 [==============================] - 1s 166ms/step - loss: 0.0327 - acc: 0.9890 - val_loss: 2.9209 - val_acc: 0.6923 - lr: 0.0010\n",
            "Epoch 14/100\n",
            "4/4 [==============================] - ETA: 0s - loss: 0.0623 - acc: 0.9725\n",
            "Epoch 00014: val_acc did not improve from 0.84615\n",
            "4/4 [==============================] - 1s 153ms/step - loss: 0.0628 - acc: 0.9725 - val_loss: 2.7281 - val_acc: 0.6923 - lr: 1.0000e-04\n",
            "Epoch 15/100\n",
            "4/4 [==============================] - ETA: 0s - loss: 0.0303 - acc: 0.9917\n",
            "Epoch 00015: val_acc did not improve from 0.84615\n",
            "4/4 [==============================] - 1s 151ms/step - loss: 0.0306 - acc: 0.9917 - val_loss: 2.8199 - val_acc: 0.6923 - lr: 1.0000e-04\n",
            "Epoch 16/100\n",
            "4/4 [==============================] - ETA: 0s - loss: 0.0363 - acc: 0.9870\n",
            "Epoch 00016: val_acc did not improve from 0.84615\n",
            "4/4 [==============================] - 1s 154ms/step - loss: 0.0363 - acc: 0.9870 - val_loss: 2.2127 - val_acc: 0.7094 - lr: 1.0000e-04\n",
            "Epoch 17/100\n",
            "4/4 [==============================] - ETA: 0s - loss: 0.0409 - acc: 0.9917\n",
            "Epoch 00017: val_acc did not improve from 0.84615\n",
            "4/4 [==============================] - 1s 153ms/step - loss: 0.0410 - acc: 0.9917 - val_loss: 1.8032 - val_acc: 0.7436 - lr: 1.0000e-04\n",
            "Epoch 18/100\n",
            "4/4 [==============================] - ETA: 0s - loss: 0.0261 - acc: 0.9945\n",
            "Epoch 00018: val_acc did not improve from 0.84615\n",
            "\n",
            "Epoch 00018: ReduceLROnPlateau reducing learning rate to 1.0000000474974514e-05.\n",
            "4/4 [==============================] - 1s 152ms/step - loss: 0.0261 - acc: 0.9945 - val_loss: 1.3134 - val_acc: 0.7607 - lr: 1.0000e-04\n",
            "Epoch 19/100\n",
            "4/4 [==============================] - ETA: 0s - loss: 0.0320 - acc: 0.9890\n",
            "Epoch 00019: val_acc did not improve from 0.84615\n",
            "4/4 [==============================] - 1s 150ms/step - loss: 0.0321 - acc: 0.9890 - val_loss: 1.1557 - val_acc: 0.7607 - lr: 1.0000e-05\n",
            "Epoch 20/100\n",
            "4/4 [==============================] - ETA: 0s - loss: 0.0169 - acc: 1.0000\n",
            "Epoch 00020: val_acc did not improve from 0.84615\n",
            "4/4 [==============================] - 1s 150ms/step - loss: 0.0168 - acc: 1.0000 - val_loss: 1.0048 - val_acc: 0.7607 - lr: 1.0000e-05\n",
            "Epoch 21/100\n",
            "4/4 [==============================] - ETA: 0s - loss: 0.0221 - acc: 0.9974\n",
            "Epoch 00021: val_acc did not improve from 0.84615\n",
            "4/4 [==============================] - 1s 154ms/step - loss: 0.0221 - acc: 0.9974 - val_loss: 0.9418 - val_acc: 0.7607 - lr: 1.0000e-05\n",
            "Epoch 22/100\n",
            "4/4 [==============================] - ETA: 0s - loss: 0.0303 - acc: 0.9917\n",
            "Epoch 00022: val_acc did not improve from 0.84615\n",
            "4/4 [==============================] - 1s 154ms/step - loss: 0.0305 - acc: 0.9917 - val_loss: 0.8613 - val_acc: 0.7778 - lr: 1.0000e-05\n",
            "Epoch 23/100\n",
            "4/4 [==============================] - ETA: 0s - loss: 0.0309 - acc: 0.9917\n",
            "Epoch 00023: val_acc did not improve from 0.84615\n",
            "\n",
            "Epoch 00023: ReduceLROnPlateau reducing learning rate to 1.0000000656873453e-06.\n",
            "4/4 [==============================] - 1s 152ms/step - loss: 0.0311 - acc: 0.9917 - val_loss: 0.7851 - val_acc: 0.8376 - lr: 1.0000e-05\n",
            "Epoch 24/100\n",
            "4/4 [==============================] - ETA: 0s - loss: 0.0217 - acc: 1.0000\n",
            "Epoch 00024: val_acc did not improve from 0.84615\n",
            "4/4 [==============================] - 1s 152ms/step - loss: 0.0215 - acc: 1.0000 - val_loss: 0.7190 - val_acc: 0.8462 - lr: 1.0000e-06\n",
            "Epoch 25/100\n",
            "4/4 [==============================] - ETA: 0s - loss: 0.0199 - acc: 0.9972\n",
            "Epoch 00025: val_acc did not improve from 0.84615\n",
            "4/4 [==============================] - 1s 152ms/step - loss: 0.0200 - acc: 0.9972 - val_loss: 0.5911 - val_acc: 0.8462 - lr: 1.0000e-06\n",
            "Epoch 26/100\n",
            "4/4 [==============================] - ETA: 0s - loss: 0.0227 - acc: 1.0000\n",
            "Epoch 00026: val_acc improved from 0.84615 to 0.88034, saving model to transferlearning_weights.hdf5\n",
            "4/4 [==============================] - 1s 227ms/step - loss: 0.0227 - acc: 1.0000 - val_loss: 0.6144 - val_acc: 0.8803 - lr: 1.0000e-06\n",
            "Epoch 27/100\n",
            "4/4 [==============================] - ETA: 0s - loss: 0.0324 - acc: 0.9972\n",
            "Epoch 00027: val_acc improved from 0.88034 to 0.89744, saving model to transferlearning_weights.hdf5\n",
            "4/4 [==============================] - 1s 234ms/step - loss: 0.0325 - acc: 0.9972 - val_loss: 0.5710 - val_acc: 0.8974 - lr: 1.0000e-06\n",
            "Epoch 28/100\n",
            "4/4 [==============================] - ETA: 0s - loss: 0.0394 - acc: 0.9807\n",
            "Epoch 00028: val_acc did not improve from 0.89744\n",
            "4/4 [==============================] - 1s 149ms/step - loss: 0.0397 - acc: 0.9807 - val_loss: 0.5344 - val_acc: 0.8974 - lr: 1.0000e-06\n",
            "Epoch 29/100\n",
            "4/4 [==============================] - ETA: 0s - loss: 0.0268 - acc: 0.9945\n",
            "Epoch 00029: val_acc improved from 0.89744 to 0.91453, saving model to transferlearning_weights.hdf5\n",
            "4/4 [==============================] - 1s 226ms/step - loss: 0.0269 - acc: 0.9945 - val_loss: 0.5007 - val_acc: 0.9145 - lr: 1.0000e-06\n",
            "Epoch 30/100\n",
            "4/4 [==============================] - ETA: 0s - loss: 0.0278 - acc: 0.9945\n",
            "Epoch 00030: val_acc did not improve from 0.91453\n",
            "4/4 [==============================] - 1s 153ms/step - loss: 0.0273 - acc: 0.9945 - val_loss: 0.3997 - val_acc: 0.9145 - lr: 1.0000e-06\n",
            "Epoch 31/100\n",
            "4/4 [==============================] - ETA: 0s - loss: 0.0297 - acc: 0.9844\n",
            "Epoch 00031: val_acc improved from 0.91453 to 0.94017, saving model to transferlearning_weights.hdf5\n",
            "4/4 [==============================] - 1s 233ms/step - loss: 0.0297 - acc: 0.9844 - val_loss: 0.4455 - val_acc: 0.9402 - lr: 1.0000e-06\n",
            "Epoch 32/100\n",
            "4/4 [==============================] - ETA: 0s - loss: 0.0318 - acc: 0.9917\n",
            "Epoch 00032: val_acc did not improve from 0.94017\n",
            "4/4 [==============================] - 1s 156ms/step - loss: 0.0316 - acc: 0.9917 - val_loss: 0.4217 - val_acc: 0.9402 - lr: 1.0000e-06\n",
            "Epoch 33/100\n",
            "4/4 [==============================] - ETA: 0s - loss: 0.0160 - acc: 0.9972\n",
            "Epoch 00033: val_acc did not improve from 0.94017\n",
            "4/4 [==============================] - 1s 149ms/step - loss: 0.0161 - acc: 0.9972 - val_loss: 0.4025 - val_acc: 0.9402 - lr: 1.0000e-06\n",
            "Epoch 34/100\n",
            "4/4 [==============================] - ETA: 0s - loss: 0.0454 - acc: 0.9835\n",
            "Epoch 00034: val_acc did not improve from 0.94017\n",
            "4/4 [==============================] - 1s 152ms/step - loss: 0.0456 - acc: 0.9835 - val_loss: 0.3831 - val_acc: 0.9402 - lr: 1.0000e-06\n",
            "Epoch 35/100\n",
            "4/4 [==============================] - ETA: 0s - loss: 0.0279 - acc: 0.9945\n",
            "Epoch 00035: val_acc improved from 0.94017 to 0.94872, saving model to transferlearning_weights.hdf5\n",
            "4/4 [==============================] - 1s 219ms/step - loss: 0.0280 - acc: 0.9945 - val_loss: 0.3013 - val_acc: 0.9487 - lr: 1.0000e-06\n",
            "Epoch 36/100\n",
            "4/4 [==============================] - ETA: 0s - loss: 0.0295 - acc: 1.0000\n",
            "Epoch 00036: val_acc did not improve from 0.94872\n",
            "4/4 [==============================] - 1s 157ms/step - loss: 0.0295 - acc: 1.0000 - val_loss: 0.3518 - val_acc: 0.9487 - lr: 1.0000e-06\n",
            "Epoch 37/100\n",
            "4/4 [==============================] - ETA: 0s - loss: 0.0235 - acc: 0.9972\n",
            "Epoch 00037: val_acc did not improve from 0.94872\n",
            "4/4 [==============================] - 1s 154ms/step - loss: 0.0234 - acc: 0.9972 - val_loss: 0.3359 - val_acc: 0.9487 - lr: 1.0000e-06\n",
            "Epoch 38/100\n",
            "4/4 [==============================] - ETA: 0s - loss: 0.0535 - acc: 0.9752\n",
            "Epoch 00038: val_acc did not improve from 0.94872\n",
            "4/4 [==============================] - 1s 148ms/step - loss: 0.0535 - acc: 0.9752 - val_loss: 0.3196 - val_acc: 0.9487 - lr: 1.0000e-06\n",
            "Epoch 39/100\n",
            "4/4 [==============================] - ETA: 0s - loss: 0.0185 - acc: 1.0000\n",
            "Epoch 00039: val_acc did not improve from 0.94872\n",
            "4/4 [==============================] - 1s 149ms/step - loss: 0.0186 - acc: 1.0000 - val_loss: 0.3115 - val_acc: 0.9487 - lr: 1.0000e-06\n",
            "Epoch 40/100\n",
            "4/4 [==============================] - ETA: 0s - loss: 0.0285 - acc: 0.9890\n",
            "Epoch 00040: val_acc did not improve from 0.94872\n",
            "\n",
            "Epoch 00040: ReduceLROnPlateau reducing learning rate to 1.0000001111620805e-07.\n",
            "4/4 [==============================] - 1s 150ms/step - loss: 0.0285 - acc: 0.9890 - val_loss: 0.2373 - val_acc: 0.9487 - lr: 1.0000e-06\n",
            "Epoch 41/100\n",
            "4/4 [==============================] - ETA: 0s - loss: 0.0343 - acc: 0.9896\n",
            "Epoch 00041: val_acc did not improve from 0.94872\n",
            "4/4 [==============================] - 1s 154ms/step - loss: 0.0343 - acc: 0.9896 - val_loss: 0.2882 - val_acc: 0.9487 - lr: 1.0000e-07\n",
            "Epoch 42/100\n",
            "4/4 [==============================] - ETA: 0s - loss: 0.0325 - acc: 0.9972\n",
            "Epoch 00042: val_acc did not improve from 0.94872\n",
            "4/4 [==============================] - 1s 156ms/step - loss: 0.0325 - acc: 0.9972 - val_loss: 0.2791 - val_acc: 0.9487 - lr: 1.0000e-07\n",
            "Epoch 43/100\n",
            "4/4 [==============================] - ETA: 0s - loss: 0.0332 - acc: 0.9890\n",
            "Epoch 00043: val_acc did not improve from 0.94872\n",
            "4/4 [==============================] - 1s 153ms/step - loss: 0.0331 - acc: 0.9890 - val_loss: 0.2691 - val_acc: 0.9487 - lr: 1.0000e-07\n",
            "Epoch 44/100\n",
            "4/4 [==============================] - ETA: 0s - loss: 0.0288 - acc: 0.9917\n",
            "Epoch 00044: val_acc did not improve from 0.94872\n",
            "4/4 [==============================] - 1s 150ms/step - loss: 0.0286 - acc: 0.9917 - val_loss: 0.2609 - val_acc: 0.9487 - lr: 1.0000e-07\n",
            "Epoch 45/100\n",
            "4/4 [==============================] - ETA: 0s - loss: 0.0174 - acc: 0.9972\n",
            "Epoch 00045: val_acc did not improve from 0.94872\n",
            "\n",
            "Epoch 00045: ReduceLROnPlateau reducing learning rate to 1.000000082740371e-08.\n",
            "4/4 [==============================] - 1s 150ms/step - loss: 0.0174 - acc: 0.9972 - val_loss: 0.1936 - val_acc: 0.9487 - lr: 1.0000e-07\n",
            "Epoch 46/100\n",
            "4/4 [==============================] - ETA: 0s - loss: 0.1002 - acc: 0.9792\n",
            "Epoch 00046: val_acc did not improve from 0.94872\n",
            "4/4 [==============================] - 1s 156ms/step - loss: 0.1002 - acc: 0.9792 - val_loss: 0.2448 - val_acc: 0.9487 - lr: 1.0000e-08\n",
            "Epoch 47/100\n",
            "4/4 [==============================] - ETA: 0s - loss: 0.0393 - acc: 0.9835\n",
            "Epoch 00047: val_acc did not improve from 0.94872\n",
            "4/4 [==============================] - 1s 158ms/step - loss: 0.0387 - acc: 0.9835 - val_loss: 0.2369 - val_acc: 0.9487 - lr: 1.0000e-08\n",
            "Epoch 48/100\n",
            "4/4 [==============================] - ETA: 0s - loss: 0.0344 - acc: 0.9917\n",
            "Epoch 00048: val_acc did not improve from 0.94872\n",
            "4/4 [==============================] - 1s 150ms/step - loss: 0.0347 - acc: 0.9917 - val_loss: 0.2321 - val_acc: 0.9487 - lr: 1.0000e-08\n",
            "Epoch 49/100\n",
            "4/4 [==============================] - ETA: 0s - loss: 0.0268 - acc: 0.9945\n",
            "Epoch 00049: val_acc did not improve from 0.94872\n",
            "4/4 [==============================] - 1s 152ms/step - loss: 0.0263 - acc: 0.9945 - val_loss: 0.2262 - val_acc: 0.9487 - lr: 1.0000e-08\n",
            "Epoch 50/100\n",
            "4/4 [==============================] - ETA: 0s - loss: 0.0198 - acc: 0.9945\n",
            "Epoch 00050: val_acc did not improve from 0.94872\n",
            "\n",
            "Epoch 00050: ReduceLROnPlateau reducing learning rate to 1.000000082740371e-09.\n",
            "4/4 [==============================] - 1s 154ms/step - loss: 0.0200 - acc: 0.9945 - val_loss: 0.1652 - val_acc: 0.9487 - lr: 1.0000e-08\n",
            "Epoch 51/100\n",
            "4/4 [==============================] - ETA: 0s - loss: 0.0272 - acc: 0.9948\n",
            "Epoch 00051: val_acc did not improve from 0.94872\n",
            "4/4 [==============================] - 1s 157ms/step - loss: 0.0272 - acc: 0.9948 - val_loss: 0.2152 - val_acc: 0.9487 - lr: 1.0000e-09\n",
            "Epoch 52/100\n",
            "4/4 [==============================] - ETA: 0s - loss: 0.0203 - acc: 1.0000\n",
            "Epoch 00052: val_acc did not improve from 0.94872\n",
            "4/4 [==============================] - 1s 154ms/step - loss: 0.0202 - acc: 1.0000 - val_loss: 0.2123 - val_acc: 0.9487 - lr: 1.0000e-09\n",
            "Epoch 53/100\n",
            "4/4 [==============================] - ETA: 0s - loss: 0.0346 - acc: 0.9890\n",
            "Epoch 00053: val_acc did not improve from 0.94872\n",
            "4/4 [==============================] - 1s 148ms/step - loss: 0.0346 - acc: 0.9890 - val_loss: 0.2069 - val_acc: 0.9487 - lr: 1.0000e-09\n",
            "Epoch 54/100\n",
            "4/4 [==============================] - ETA: 0s - loss: 0.0415 - acc: 0.9890\n",
            "Epoch 00054: val_acc did not improve from 0.94872\n",
            "4/4 [==============================] - 1s 148ms/step - loss: 0.0416 - acc: 0.9890 - val_loss: 0.2033 - val_acc: 0.9487 - lr: 1.0000e-09\n",
            "Epoch 55/100\n",
            "4/4 [==============================] - ETA: 0s - loss: 0.0213 - acc: 0.9945\n",
            "Epoch 00055: val_acc did not improve from 0.94872\n",
            "\n",
            "Epoch 00055: ReduceLROnPlateau reducing learning rate to 1.000000082740371e-10.\n",
            "4/4 [==============================] - 1s 154ms/step - loss: 0.0214 - acc: 0.9945 - val_loss: 0.1445 - val_acc: 0.9487 - lr: 1.0000e-09\n",
            "Epoch 56/100\n",
            "4/4 [==============================] - ETA: 0s - loss: 0.0234 - acc: 1.0000\n",
            "Epoch 00056: val_acc did not improve from 0.94872\n",
            "4/4 [==============================] - 1s 154ms/step - loss: 0.0234 - acc: 1.0000 - val_loss: 0.1948 - val_acc: 0.9487 - lr: 1.0000e-10\n",
            "Epoch 57/100\n",
            "4/4 [==============================] - ETA: 0s - loss: 0.0366 - acc: 0.9862\n",
            "Epoch 00057: val_acc did not improve from 0.94872\n",
            "4/4 [==============================] - 1s 158ms/step - loss: 0.0365 - acc: 0.9862 - val_loss: 0.1907 - val_acc: 0.9487 - lr: 1.0000e-10\n",
            "Epoch 58/100\n",
            "4/4 [==============================] - ETA: 0s - loss: 0.0221 - acc: 0.9945\n",
            "Epoch 00058: val_acc did not improve from 0.94872\n",
            "4/4 [==============================] - 1s 147ms/step - loss: 0.0222 - acc: 0.9945 - val_loss: 0.1873 - val_acc: 0.9487 - lr: 1.0000e-10\n",
            "Epoch 59/100\n",
            "4/4 [==============================] - ETA: 0s - loss: 0.0262 - acc: 0.9890\n",
            "Epoch 00059: val_acc did not improve from 0.94872\n",
            "4/4 [==============================] - 1s 150ms/step - loss: 0.0263 - acc: 0.9890 - val_loss: 0.1841 - val_acc: 0.9487 - lr: 1.0000e-10\n",
            "Epoch 60/100\n",
            "4/4 [==============================] - ETA: 0s - loss: 0.0158 - acc: 1.0000\n",
            "Epoch 00060: val_acc did not improve from 0.94872\n",
            "\n",
            "Epoch 00060: ReduceLROnPlateau reducing learning rate to 1.000000082740371e-11.\n",
            "4/4 [==============================] - 1s 151ms/step - loss: 0.0159 - acc: 1.0000 - val_loss: 0.1297 - val_acc: 0.9487 - lr: 1.0000e-10\n",
            "Epoch 61/100\n",
            "4/4 [==============================] - ETA: 0s - loss: 0.0352 - acc: 0.9870\n",
            "Epoch 00061: val_acc did not improve from 0.94872\n",
            "4/4 [==============================] - 1s 153ms/step - loss: 0.0352 - acc: 0.9870 - val_loss: 0.1803 - val_acc: 0.9487 - lr: 1.0000e-11\n",
            "Epoch 62/100\n",
            "4/4 [==============================] - ETA: 0s - loss: 0.0237 - acc: 0.9917\n",
            "Epoch 00062: val_acc did not improve from 0.94872\n",
            "4/4 [==============================] - 1s 157ms/step - loss: 0.0238 - acc: 0.9917 - val_loss: 0.1762 - val_acc: 0.9487 - lr: 1.0000e-11\n",
            "Epoch 63/100\n",
            "4/4 [==============================] - ETA: 0s - loss: 0.0268 - acc: 0.9972\n",
            "Epoch 00063: val_acc did not improve from 0.94872\n",
            "4/4 [==============================] - 1s 149ms/step - loss: 0.0270 - acc: 0.9972 - val_loss: 0.1732 - val_acc: 0.9487 - lr: 1.0000e-11\n",
            "Epoch 64/100\n",
            "4/4 [==============================] - ETA: 0s - loss: 0.0186 - acc: 1.0000\n",
            "Epoch 00064: val_acc did not improve from 0.94872\n",
            "4/4 [==============================] - 1s 151ms/step - loss: 0.0186 - acc: 1.0000 - val_loss: 0.1713 - val_acc: 0.9487 - lr: 1.0000e-11\n",
            "Epoch 65/100\n",
            "4/4 [==============================] - ETA: 0s - loss: 0.0252 - acc: 0.9945\n",
            "Epoch 00065: val_acc did not improve from 0.94872\n",
            "\n",
            "Epoch 00065: ReduceLROnPlateau reducing learning rate to 1.000000082740371e-12.\n",
            "4/4 [==============================] - 1s 155ms/step - loss: 0.0253 - acc: 0.9945 - val_loss: 0.1191 - val_acc: 0.9487 - lr: 1.0000e-11\n",
            "Epoch 66/100\n",
            "4/4 [==============================] - ETA: 0s - loss: 0.0251 - acc: 1.0000\n",
            "Epoch 00066: val_acc did not improve from 0.94872\n",
            "4/4 [==============================] - 1s 159ms/step - loss: 0.0251 - acc: 1.0000 - val_loss: 0.1687 - val_acc: 0.9487 - lr: 1.0000e-12\n",
            "Epoch 67/100\n",
            "4/4 [==============================] - ETA: 0s - loss: 0.0408 - acc: 0.9835\n",
            "Epoch 00067: val_acc did not improve from 0.94872\n",
            "4/4 [==============================] - 1s 155ms/step - loss: 0.0409 - acc: 0.9835 - val_loss: 0.1652 - val_acc: 0.9487 - lr: 1.0000e-12\n",
            "Epoch 68/100\n",
            "4/4 [==============================] - ETA: 0s - loss: 0.0251 - acc: 0.9972\n",
            "Epoch 00068: val_acc did not improve from 0.94872\n",
            "4/4 [==============================] - 1s 150ms/step - loss: 0.0253 - acc: 0.9972 - val_loss: 0.1639 - val_acc: 0.9487 - lr: 1.0000e-12\n",
            "Epoch 69/100\n",
            "4/4 [==============================] - ETA: 0s - loss: 0.0263 - acc: 0.9972\n",
            "Epoch 00069: val_acc did not improve from 0.94872\n",
            "4/4 [==============================] - 1s 149ms/step - loss: 0.0261 - acc: 0.9972 - val_loss: 0.1625 - val_acc: 0.9487 - lr: 1.0000e-12\n",
            "Epoch 70/100\n",
            "4/4 [==============================] - ETA: 0s - loss: 0.0228 - acc: 0.9945\n",
            "Epoch 00070: val_acc did not improve from 0.94872\n",
            "\n",
            "Epoch 00070: ReduceLROnPlateau reducing learning rate to 1.0000001044244145e-13.\n",
            "4/4 [==============================] - 1s 151ms/step - loss: 0.0228 - acc: 0.9945 - val_loss: 0.1108 - val_acc: 0.9487 - lr: 1.0000e-12\n",
            "Epoch 71/100\n",
            "4/4 [==============================] - ETA: 0s - loss: 0.0271 - acc: 0.9948\n",
            "Epoch 00071: val_acc did not improve from 0.94872\n",
            "4/4 [==============================] - 1s 152ms/step - loss: 0.0271 - acc: 0.9948 - val_loss: 0.1583 - val_acc: 0.9487 - lr: 1.0000e-13\n",
            "Epoch 72/100\n",
            "4/4 [==============================] - ETA: 0s - loss: 0.0349 - acc: 0.9890\n",
            "Epoch 00072: val_acc did not improve from 0.94872\n",
            "4/4 [==============================] - 1s 152ms/step - loss: 0.0351 - acc: 0.9890 - val_loss: 0.1586 - val_acc: 0.9487 - lr: 1.0000e-13\n",
            "Epoch 73/100\n",
            "4/4 [==============================] - ETA: 0s - loss: 0.0282 - acc: 0.9945\n",
            "Epoch 00073: val_acc did not improve from 0.94872\n",
            "4/4 [==============================] - 1s 149ms/step - loss: 0.0282 - acc: 0.9945 - val_loss: 0.1556 - val_acc: 0.9487 - lr: 1.0000e-13\n",
            "Epoch 74/100\n",
            "4/4 [==============================] - ETA: 0s - loss: 0.0257 - acc: 0.9972\n",
            "Epoch 00074: val_acc did not improve from 0.94872\n",
            "4/4 [==============================] - 1s 149ms/step - loss: 0.0256 - acc: 0.9972 - val_loss: 0.1548 - val_acc: 0.9487 - lr: 1.0000e-13\n",
            "Epoch 75/100\n",
            "4/4 [==============================] - ETA: 0s - loss: 0.0222 - acc: 0.9945\n",
            "Epoch 00075: val_acc did not improve from 0.94872\n",
            "\n",
            "Epoch 00075: ReduceLROnPlateau reducing learning rate to 1.0000001179769417e-14.\n",
            "4/4 [==============================] - 1s 154ms/step - loss: 0.0221 - acc: 0.9945 - val_loss: 0.1048 - val_acc: 0.9487 - lr: 1.0000e-13\n",
            "Epoch 76/100\n",
            "4/4 [==============================] - ETA: 0s - loss: 0.0208 - acc: 0.9974\n",
            "Epoch 00076: val_acc did not improve from 0.94872\n",
            "4/4 [==============================] - 1s 159ms/step - loss: 0.0208 - acc: 0.9974 - val_loss: 0.1521 - val_acc: 0.9487 - lr: 1.0000e-14\n",
            "Epoch 77/100\n",
            "4/4 [==============================] - ETA: 0s - loss: 0.0214 - acc: 0.9945\n",
            "Epoch 00077: val_acc did not improve from 0.94872\n",
            "4/4 [==============================] - 1s 156ms/step - loss: 0.0215 - acc: 0.9945 - val_loss: 0.1520 - val_acc: 0.9487 - lr: 1.0000e-14\n",
            "Epoch 78/100\n",
            "4/4 [==============================] - ETA: 0s - loss: 0.0169 - acc: 1.0000\n",
            "Epoch 00078: val_acc did not improve from 0.94872\n",
            "4/4 [==============================] - 1s 152ms/step - loss: 0.0168 - acc: 1.0000 - val_loss: 0.1493 - val_acc: 0.9487 - lr: 1.0000e-14\n",
            "Epoch 79/100\n",
            "4/4 [==============================] - ETA: 0s - loss: 0.0326 - acc: 0.9890\n",
            "Epoch 00079: val_acc did not improve from 0.94872\n",
            "4/4 [==============================] - 1s 152ms/step - loss: 0.0329 - acc: 0.9890 - val_loss: 0.1487 - val_acc: 0.9487 - lr: 1.0000e-14\n",
            "Epoch 80/100\n",
            "4/4 [==============================] - ETA: 0s - loss: 0.0464 - acc: 0.9807\n",
            "Epoch 00080: val_acc did not improve from 0.94872\n",
            "\n",
            "Epoch 00080: ReduceLROnPlateau reducing learning rate to 1.0000001518582595e-15.\n",
            "4/4 [==============================] - 1s 154ms/step - loss: 0.0464 - acc: 0.9807 - val_loss: 0.1004 - val_acc: 0.9487 - lr: 1.0000e-14\n",
            "Epoch 81/100\n",
            "4/4 [==============================] - ETA: 0s - loss: 0.0426 - acc: 0.9844\n",
            "Epoch 00081: val_acc did not improve from 0.94872\n",
            "4/4 [==============================] - 1s 154ms/step - loss: 0.0426 - acc: 0.9844 - val_loss: 0.1474 - val_acc: 0.9487 - lr: 1.0000e-15\n",
            "Epoch 82/100\n",
            "4/4 [==============================] - ETA: 0s - loss: 0.0482 - acc: 0.9890\n",
            "Epoch 00082: val_acc improved from 0.94872 to 0.95726, saving model to transferlearning_weights.hdf5\n",
            "4/4 [==============================] - 1s 231ms/step - loss: 0.0478 - acc: 0.9890 - val_loss: 0.1454 - val_acc: 0.9573 - lr: 1.0000e-15\n",
            "Epoch 83/100\n",
            "4/4 [==============================] - ETA: 0s - loss: 0.0232 - acc: 0.9945\n",
            "Epoch 00083: val_acc did not improve from 0.95726\n",
            "4/4 [==============================] - 1s 150ms/step - loss: 0.0232 - acc: 0.9945 - val_loss: 0.1461 - val_acc: 0.9573 - lr: 1.0000e-15\n",
            "Epoch 84/100\n",
            "4/4 [==============================] - ETA: 0s - loss: 0.0349 - acc: 0.9945\n",
            "Epoch 00084: val_acc did not improve from 0.95726\n",
            "4/4 [==============================] - 1s 151ms/step - loss: 0.0344 - acc: 0.9945 - val_loss: 0.1444 - val_acc: 0.9573 - lr: 1.0000e-15\n",
            "Epoch 85/100\n",
            "4/4 [==============================] - ETA: 0s - loss: 0.0345 - acc: 0.9890\n",
            "Epoch 00085: val_acc improved from 0.95726 to 0.95727, saving model to transferlearning_weights.hdf5\n",
            "4/4 [==============================] - 1s 226ms/step - loss: 0.0347 - acc: 0.9890 - val_loss: 0.0975 - val_acc: 0.9573 - lr: 1.0000e-15\n",
            "Epoch 86/100\n",
            "4/4 [==============================] - ETA: 0s - loss: 0.0204 - acc: 0.9948\n",
            "Epoch 00086: val_acc did not improve from 0.95727\n",
            "4/4 [==============================] - 1s 155ms/step - loss: 0.0204 - acc: 0.9948 - val_loss: 0.1427 - val_acc: 0.9573 - lr: 1.0000e-15\n",
            "Epoch 87/100\n",
            "4/4 [==============================] - ETA: 0s - loss: 0.0292 - acc: 0.9917\n",
            "Epoch 00087: val_acc did not improve from 0.95727\n",
            "\n",
            "Epoch 00087: ReduceLROnPlateau reducing learning rate to 1.0000001095066122e-16.\n",
            "4/4 [==============================] - 1s 153ms/step - loss: 0.0291 - acc: 0.9917 - val_loss: 0.1433 - val_acc: 0.9573 - lr: 1.0000e-15\n",
            "Epoch 88/100\n",
            "4/4 [==============================] - ETA: 0s - loss: 0.0368 - acc: 0.9917\n",
            "Epoch 00088: val_acc improved from 0.95727 to 0.96581, saving model to transferlearning_weights.hdf5\n",
            "4/4 [==============================] - 1s 226ms/step - loss: 0.0371 - acc: 0.9917 - val_loss: 0.1420 - val_acc: 0.9658 - lr: 1.0000e-16\n",
            "Epoch 89/100\n",
            "4/4 [==============================] - ETA: 0s - loss: 0.0285 - acc: 0.9917\n",
            "Epoch 00089: val_acc did not improve from 0.96581\n",
            "4/4 [==============================] - 1s 150ms/step - loss: 0.0286 - acc: 0.9917 - val_loss: 0.1419 - val_acc: 0.9658 - lr: 1.0000e-16\n",
            "Epoch 90/100\n",
            "4/4 [==============================] - ETA: 0s - loss: 0.0218 - acc: 1.0000\n",
            "Epoch 00090: val_acc did not improve from 0.96581\n",
            "4/4 [==============================] - 1s 152ms/step - loss: 0.0218 - acc: 1.0000 - val_loss: 0.0950 - val_acc: 0.9658 - lr: 1.0000e-16\n",
            "Epoch 91/100\n",
            "4/4 [==============================] - ETA: 0s - loss: 0.0320 - acc: 0.9948\n",
            "Epoch 00091: val_acc did not improve from 0.96581\n",
            "4/4 [==============================] - 1s 153ms/step - loss: 0.0320 - acc: 0.9948 - val_loss: 0.1403 - val_acc: 0.9658 - lr: 1.0000e-16\n",
            "Epoch 92/100\n",
            "4/4 [==============================] - ETA: 0s - loss: 0.0218 - acc: 1.0000\n",
            "Epoch 00092: val_acc did not improve from 0.96581\n",
            "4/4 [==============================] - 1s 154ms/step - loss: 0.0218 - acc: 1.0000 - val_loss: 0.1410 - val_acc: 0.9658 - lr: 1.0000e-16\n",
            "Epoch 93/100\n",
            "4/4 [==============================] - ETA: 0s - loss: 0.0488 - acc: 0.9835\n",
            "Epoch 00093: val_acc did not improve from 0.96581\n",
            "\n",
            "Epoch 00093: ReduceLROnPlateau reducing learning rate to 1.0000000830368326e-17.\n",
            "4/4 [==============================] - 1s 153ms/step - loss: 0.0490 - acc: 0.9835 - val_loss: 0.1405 - val_acc: 0.9658 - lr: 1.0000e-16\n",
            "Epoch 94/100\n",
            "4/4 [==============================] - ETA: 0s - loss: 0.0479 - acc: 0.9780\n",
            "Epoch 00094: val_acc did not improve from 0.96581\n",
            "4/4 [==============================] - 1s 152ms/step - loss: 0.0479 - acc: 0.9780 - val_loss: 0.1394 - val_acc: 0.9658 - lr: 1.0000e-17\n",
            "Epoch 95/100\n",
            "4/4 [==============================] - ETA: 0s - loss: 0.0263 - acc: 0.9890\n",
            "Epoch 00095: val_acc did not improve from 0.96581\n",
            "4/4 [==============================] - 1s 150ms/step - loss: 0.0264 - acc: 0.9890 - val_loss: 0.0930 - val_acc: 0.9658 - lr: 1.0000e-17\n",
            "Epoch 96/100\n",
            "4/4 [==============================] - ETA: 0s - loss: 0.0283 - acc: 0.9922\n",
            "Epoch 00096: val_acc did not improve from 0.96581\n",
            "4/4 [==============================] - 1s 155ms/step - loss: 0.0283 - acc: 0.9922 - val_loss: 0.1377 - val_acc: 0.9658 - lr: 1.0000e-17\n",
            "Epoch 97/100\n",
            "4/4 [==============================] - ETA: 0s - loss: 0.0188 - acc: 1.0000\n",
            "Epoch 00097: val_acc did not improve from 0.96581\n",
            "4/4 [==============================] - 1s 157ms/step - loss: 0.0189 - acc: 1.0000 - val_loss: 0.1368 - val_acc: 0.9658 - lr: 1.0000e-17\n",
            "Epoch 98/100\n",
            "4/4 [==============================] - ETA: 0s - loss: 0.0621 - acc: 0.9752\n",
            "Epoch 00098: val_acc did not improve from 0.96581\n",
            "\n",
            "Epoch 00098: ReduceLROnPlateau reducing learning rate to 1.0000000664932204e-18.\n",
            "4/4 [==============================] - 1s 154ms/step - loss: 0.0621 - acc: 0.9752 - val_loss: 0.1371 - val_acc: 0.9658 - lr: 1.0000e-17\n",
            "Epoch 99/100\n",
            "4/4 [==============================] - ETA: 0s - loss: 0.0217 - acc: 0.9945\n",
            "Epoch 00099: val_acc did not improve from 0.96581\n",
            "4/4 [==============================] - 1s 152ms/step - loss: 0.0216 - acc: 0.9945 - val_loss: 0.1375 - val_acc: 0.9658 - lr: 1.0000e-18\n",
            "Epoch 100/100\n",
            "4/4 [==============================] - ETA: 0s - loss: 0.0178 - acc: 1.0000\n",
            "Epoch 00100: val_acc did not improve from 0.96581\n",
            "4/4 [==============================] - 1s 153ms/step - loss: 0.0178 - acc: 1.0000 - val_loss: 0.0914 - val_acc: 0.9658 - lr: 1.0000e-18\n"
          ],
          "name": "stdout"
        }
      ]
    },
    {
      "cell_type": "code",
      "metadata": {
        "id": "BPS7VlyfpW0k",
        "colab_type": "code",
        "colab": {}
      },
      "source": [
        "import matplotlib.pyplot as plt\n",
        "from sklearn.metrics import confusion_matrix\n",
        "%matplotlib inline"
      ],
      "execution_count": 0,
      "outputs": []
    },
    {
      "cell_type": "markdown",
      "metadata": {
        "id": "O-BYRefUpd6X",
        "colab_type": "text"
      },
      "source": [
        "**ANALYZE THE RESULTS**"
      ]
    },
    {
      "cell_type": "code",
      "metadata": {
        "id": "I0dLZffYpdea",
        "colab_type": "code",
        "colab": {
          "base_uri": "https://localhost:8080/",
          "height": 573
        },
        "outputId": "66ef437f-2e94-43cc-b25e-180e20ff2cf3"
      },
      "source": [
        "plt.plot(history.history['acc'])\n",
        "plt.plot(history.history['val_acc'])\n",
        "plt.title('model accuracy')\n",
        "plt.ylabel('accuracy')\n",
        "plt.xlabel('epoch')\n",
        "plt.legend(['train', 'test'], loc='upper left')\n",
        "plt.show()\n",
        "# summarize history for loss\n",
        "plt.plot(history.history['loss'])\n",
        "plt.plot(history.history['val_loss'])\n",
        "plt.title('model loss')\n",
        "plt.ylabel('loss')\n",
        "plt.xlabel('epoch')\n",
        "plt.legend(['train', 'test'], loc='upper left')\n",
        "plt.show()"
      ],
      "execution_count": 100,
      "outputs": [
        {
          "output_type": "display_data",
          "data": {
            "image/png": "[encoded data removed]",
            "text/plain": [
              "<Figure size 432x288 with 1 Axes>"
            ]
          },
          "metadata": {
            "tags": []
          }
        },
        {
          "output_type": "display_data",
          "data": {
            "image/png": "[encoded data removed]",
            "text/plain": [
              "<Figure size 432x288 with 1 Axes>"
            ]
          },
          "metadata": {
            "tags": []
          }
        }
      ]
    },
    {
      "cell_type": "code",
      "metadata": {
        "id": "-XGKnYlYpi3e",
        "colab_type": "code",
        "colab": {}
      },
      "source": [
        "pred = model.predict(testX)\n",
        "pred = np.argmax(pred,axis = 1) \n",
        "y_true = np.argmax(testY,axis = 1)"
      ],
      "execution_count": 0,
      "outputs": []
    },
    {
      "cell_type": "code",
      "metadata": {
        "id": "ynnWVW5Jpq2U",
        "colab_type": "code",
        "colab": {
          "base_uri": "https://localhost:8080/",
          "height": 385
        },
        "outputId": "795b15cf-7f8c-46aa-d956-c066ad16a694"
      },
      "source": [
        "cm = confusion_matrix(y_true, pred)\n",
        "total = sum(sum(cm))\n",
        "acc = (cm[0, 0] + cm[1, 1] + cm[2,2]) / total\n",
        "sensitivity = cm[0, 0] / (cm[0, 0] + cm[0, 1])\n",
        "specificity = cm[1, 1] / (cm[1, 0] + cm[1, 1])\n",
        "\n",
        "print(\"Accuracy: {:.4f}\".format(acc))\n",
        "print(\"Sensitivity: {:.4f}\".format(sensitivity))\n",
        "print(\"Specificity: {:.4f}\".format(specificity))\n",
        "\n",
        "from mlxtend.plotting import plot_confusion_matrix\n",
        "fig, ax = plot_confusion_matrix(conf_mat=cm ,  figsize=(5, 5))\n",
        "plt.show()"
      ],
      "execution_count": 104,
      "outputs": [
        {
          "output_type": "stream",
          "text": [
            "Accuracy: 0.9487\n",
            "Sensitivity: 0.8462\n",
            "Specificity: 1.0000\n"
          ],
          "name": "stdout"
        },
        {
          "output_type": "display_data",
          "data": {
            "image/png": "[encoded data removed]",
            "text/plain": [
              "<Figure size 360x360 with 1 Axes>"
            ]
          },
          "metadata": {
            "tags": []
          }
        }
      ]
    },
    {
      "cell_type": "code",
      "metadata": {
        "id": "PqIEfj9lp--i",
        "colab_type": "code",
        "colab": {}
      },
      "source": [
        ""
      ],
      "execution_count": 0,
      "outputs": []
    }
  ]
}