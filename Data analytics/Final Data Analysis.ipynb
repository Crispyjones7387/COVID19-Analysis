{
 "cells": [
  {
   "cell_type": "code",
   "execution_count": 1,
   "metadata": {},
   "outputs": [],
   "source": [
    "import numpy as np # linear algebra\n",
    "import pandas as pd # data processing, CSV file I/O (e.g. pd.read_csv)\n",
    "import os\n",
    "import numpy as np \n",
    "import seaborn as sb\n",
    "import matplotlib.pyplot as plt \n",
    "import matplotlib.colors as mcolors\n",
    "import pandas as pd \n",
    "import random\n",
    "import math\n",
    "import time\n",
    "from sklearn.linear_model import LinearRegression, BayesianRidge\n",
    "from sklearn.model_selection import RandomizedSearchCV, train_test_split\n",
    "from sklearn.svm import SVR\n",
    "from sklearn.metrics import mean_squared_error, mean_absolute_error\n",
    "import datetime\n",
    "import operator\n",
    "import scipy\n",
    "from IPython.display import Javascript\n",
    "from IPython.core.display import display\n",
    "from IPython.core.display import HTML\n",
    "\n",
    "plt.style.use('seaborn')\n",
    "%matplotlib inline \n",
    "sb.set_style('darkgrid')"
   ]
  },
  {
   "cell_type": "code",
   "execution_count": 338,
   "metadata": {},
   "outputs": [],
   "source": [
    "base_url = \"https://raw.githubusercontent.com/CSSEGISandData/COVID-19/master/csse_covid_19_data/csse_covid_19_time_series/\"\n",
    "\n",
    "def string_to_date(input_):\n",
    "    \"\"\"Converts string of type 01/22/02 [for 22 Jan 2020] into datetime object\"\"\"\n",
    "    # return pd.to_datetime(input_, format='%m/%d/%y', errors='ignore')\n",
    "    return pd.to_datetime(input_, format='%m/%d/%y')\n",
    "\n",
    "\n",
    "def set_date_formatting(ax):\n",
    "    ax.xaxis.set_major_locator(matplotlib.dates.DayLocator())\n",
    "    ax.xaxis.set_major_formatter(matplotlib.dates.DateFormatter('%b %d'))\n",
    "    ax.tick_params(axis='x', rotation=90)\n",
    "\n",
    "# read data from web\n",
    "#\n",
    "def fetch_data(names = ['confirmed_global', 'deaths_global', 'recovered_global']):\n",
    "    \"\"\"Return 4 data frames:\n",
    "    [confirmed, deaths, recovered], location_info\n",
    "    \n",
    "    where confirmed, deaths and recovered are data frames with countries/regions in the rows, and \n",
    "    days in the columns\n",
    "    \n",
    "    and location_info provides additional information about the locations.\n",
    "    \n",
    "    We assume all three tables have the same entries\"\"\"\n",
    "    location_info = pd.DataFrame()\n",
    "    dfs = []\n",
    "    for name in names:\n",
    "        url = os.path.join(base_url, \"time_series_covid19_\" + name + \".csv\")\n",
    "        df = pd.read_csv(url, index_col=1)\n",
    "    \n",
    "        \n",
    "        df = df.drop(labels=[\"Lat\", \"Long\", \"Province/State\"], axis=1)\n",
    "        #df = df.drop(labels=[\"Lat\", \"Long\"], axis=1)\n",
    "        \n",
    "        # extract dates from strings\n",
    "        dates = string_to_date(df.columns[1:])        \n",
    "        # use those objects as new column labels\n",
    "        df.columns = [df.columns[0]] + list(dates)\n",
    "        print(f\"{name:10}: last data point from {max(dates[1:])}\")\n",
    "        # dfs.append([df, location_info)\n",
    "        dfs.append(df)\n",
    "\n",
    "    return dfs"
   ]
  },
  {
   "cell_type": "code",
   "execution_count": 339,
   "metadata": {},
   "outputs": [
    {
     "name": "stdout",
     "output_type": "stream",
     "text": [
      "confirmed_global: last data point from 2020-03-27 00:00:00\n",
      "deaths_global: last data point from 2020-03-27 00:00:00\n",
      "recovered_global: last data point from 2020-03-27 00:00:00\n"
     ]
    }
   ],
   "source": [
    "confirmed, deaths, recovered = fetch_data()\n",
    "\n",
    "confirmed_df = confirmed.groupby(confirmed.index).sum()\n",
    "deaths_df = deaths.groupby(deaths.index).sum()\n",
    "recoveries_df = recovered.groupby(recovered.index).sum()"
   ]
  },
  {
   "cell_type": "code",
   "execution_count": 327,
   "metadata": {},
   "outputs": [],
   "source": [
    "#confirmed_df"
   ]
  },
  {
   "cell_type": "code",
   "execution_count": 343,
   "metadata": {},
   "outputs": [],
   "source": [
    "#confirmed_df.head()\n",
    "columns = confirmed_df.keys()\n",
    "confirmed = confirmed_df.loc[:, columns[2]:columns[-1]]\n",
    "deaths = deaths_df.loc[:, columns[2]:columns[-1]]\n",
    "recoveries = recoveries_df.loc[:, columns[2]:columns[-1]]\n",
    "active = confirmed_df - deaths_df - recoveries_df\n",
    "active = active.fillna(0)\n",
    "active.drop(active.columns[[0,-1]], axis = 1, inplace = True) "
   ]
  },
  {
   "cell_type": "code",
   "execution_count": 319,
   "metadata": {},
   "outputs": [],
   "source": [
    "dates = confirmed.keys()\n",
    "#world_cases = []\n",
    "#total_deaths = [] \n",
    "#mortality_rate = []\n",
    "#total_recovered = [] \n",
    "#total_active = []\n",
    "\n",
    "#for i in dates:\n",
    "    #confirmed_sum = confirmed[i].sum()\n",
    "    #death_sum = deaths[i].sum()\n",
    "    #recovered_sum = recoveries[i].sum()\n",
    "    #total_active_sum = active[i].sum() ###new\n",
    "    #world_cases.append(confirmed_sum)\n",
    "    #total_deaths.append(death_sum)\n",
    "    #mortality_rate.append(death_sum/confirmed_sum)\n",
    "    #total_recovered.append(recovered_sum)\n",
    "    #total_active.append(total_active_sum)\n",
    "#total_deaths = deaths.sum()\n",
    "#world_cases = confirmed.sum()\n",
    "#total_recovered = recoveries.sum()\n",
    "#total_active = active.sum()\n",
    "\n",
    "total_deaths = deaths.iloc[:,-1]\n",
    "world_cases = confirmed.iloc[:,-1]\n",
    "total_recovered = recoveries.iloc[:,-1]\n",
    "total_active = active.iloc[:,-1]\n"
   ]
  },
  {
   "cell_type": "code",
   "execution_count": 16,
   "metadata": {},
   "outputs": [],
   "source": [
    "world_cases.sort_values(ascending=False)"
   ]
  },
  {
   "cell_type": "code",
   "execution_count": 321,
   "metadata": {},
   "outputs": [],
   "source": [
    "index = pd.DataFrame(confirmed.index)\n",
    "index.set_index('Country/Region',inplace=True)\n",
    "world_cases = pd.DataFrame(world_cases)\n",
    "total_deaths = pd.DataFrame(total_deaths)\n",
    "total_recovered = pd.DataFrame(total_recovered)\n",
    "total_active = pd.DataFrame(total_active)"
   ]
  },
  {
   "cell_type": "code",
   "execution_count": 322,
   "metadata": {},
   "outputs": [],
   "source": [
    "#print(index.size,world_cases.size,total_deaths.size,total_recovered.size,total_active.size)\n",
    "global_data = pd.concat([index,world_cases,total_deaths,total_recovered,total_active],axis=1)\n",
    "global_data.columns = ['world_cases','total_deaths','total_recovered','total_active']"
   ]
  },
  {
   "cell_type": "code",
   "execution_count": 324,
   "metadata": {},
   "outputs": [],
   "source": [
    "global_data.sort_values(by='world_cases',ascending=False,inplace=True)"
   ]
  },
  {
   "cell_type": "code",
   "execution_count": 15,
   "metadata": {
    "scrolled": true
   },
   "outputs": [],
   "source": [
    "#global_data"
   ]
  },
  {
   "cell_type": "code",
   "execution_count": 333,
   "metadata": {
    "scrolled": true
   },
   "outputs": [
    {
     "data": {
      "image/png": "[encoded data removed]",
      "text/plain": [
       "<Figure size 720x360 with 1 Axes>"
      ]
     },
     "metadata": {
      "needs_background": "light"
     },
     "output_type": "display_data"
    }
   ],
   "source": [
    "plt.figure(figsize=(10,5))\n",
    "ax = sb.heatmap(global_data[:10], annot=True, fmt=\"d\", linewidths=0.1, cmap='Reds', linecolor='white', cbar=False)"
   ]
  },
  {
   "cell_type": "code",
   "execution_count": 3,
   "metadata": {},
   "outputs": [],
   "source": [
    "url = \"https://raw.githubusercontent.com/CSSEGISandData/COVID-19/master/csse_covid_19_data/csse_covid_19_time_series/time_series_covid19_confirmed_global.csv\"\n",
    "df1 = pd.read_csv(url, index_col=1)\n",
    "df1 = df1.drop(labels=[\"Province/State\"], axis=1)\n",
    "df1 = df1.groupby(df1.index).sum()"
   ]
  },
  {
   "cell_type": "code",
   "execution_count": 7,
   "metadata": {},
   "outputs": [],
   "source": [
    "formated_gdf = full_table.groupby(['Date', 'Country/Region'])['Confirmed', 'Deaths'].max()\n",
    "formated_gdf = formated_gdf.reset_index()\n",
    "formated_gdf['Date'] = pd.to_datetime(formated_gdf['Date'])\n",
    "formated_gdf['Date'] = formated_gdf['Date'].dt.strftime('%m/%d/%Y')\n",
    "formated_gdf['size'] = formated_gdf['Confirmed'].pow(0.3)\n",
    "\n",
    "fig = px.scatter_geo(formated_gdf, locations=\"Country/Region\", locationmode='country names', \n",
    "                     color=\"Confirmed\", size='size', hover_name=\"Country/Region\", \n",
    "                     range_color= [0, max(formated_gdf['Confirmed'])+2], animation_frame=\"Date\", \n",
    "                     title='Spread over time')\n",
    "fig.update(layout_coloraxis_showscale=False)\n",
    "fig.show()\n"
   ]
  },
  {
   "cell_type": "code",
   "execution_count": 13,
   "metadata": {},
   "outputs": [],
   "source": [
    "df1.to_csv('out1.csv',index=True)"
   ]
  },
  {
   "cell_type": "code",
   "execution_count": 14,
   "metadata": {},
   "outputs": [
    {
     "data": {
      "text/html": [
       "<div class=\"flourish-embed flourish-bar-chart-race\" data-src=\"visualisation/1710772\"><script src=\"https://public.flourish.studio/resources/embed.js\"></script></div>"
      ],
      "text/plain": [
       "<IPython.core.display.HTML object>"
      ]
     },
     "execution_count": 14,
     "metadata": {},
     "output_type": "execute_result"
    }
   ],
   "source": [
    "HTML('''<div class=\"flourish-embed flourish-bar-chart-race\" data-src=\"visualisation/1710772\"><script src=\"https://public.flourish.studio/resources/embed.js\"></script></div>''')"
   ]
  },
  {
   "cell_type": "code",
   "execution_count": null,
   "metadata": {},
   "outputs": [],
   "source": []
  },
  {
   "cell_type": "code",
   "execution_count": null,
   "metadata": {},
   "outputs": [],
   "source": []
  },
  {
   "cell_type": "code",
   "execution_count": null,
   "metadata": {},
   "outputs": [],
   "source": []
  },
  {
   "cell_type": "code",
   "execution_count": null,
   "metadata": {},
   "outputs": [],
   "source": []
  }
 ],
 "metadata": {
  "kernelspec": {
   "display_name": "Python 3",
   "language": "python",
   "name": "python3"
  },
  "language_info": {
   "codemirror_mode": {
    "name": "ipython",
    "version": 3
   },
   "file_extension": ".py",
   "mimetype": "text/x-python",
   "name": "python",
   "nbconvert_exporter": "python",
   "pygments_lexer": "ipython3",
   "version": "3.7.3"
  }
 },
 "nbformat": 4,
 "nbformat_minor": 2
}
